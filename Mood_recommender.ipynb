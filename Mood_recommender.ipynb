{
 "cells": [
  {
   "cell_type": "markdown",
   "id": "0e1869cb-94f2-46a5-89f8-e2a4f394a4f4",
   "metadata": {},
   "source": [
    "<h1 style=\"color: #492c68;\">01 | BASICS</h1>"
   ]
  },
  {
   "cell_type": "markdown",
   "id": "5b986eb5-bd64-4bb6-b110-34af3d646c85",
   "metadata": {
    "tags": []
   },
   "source": [
    "<h2 style=\"color: #327a81;\">Libraries</h2>"
   ]
  },
  {
   "cell_type": "code",
   "execution_count": 1,
   "id": "fe9ca9b4-bedc-445d-817c-e296d61e18fb",
   "metadata": {
    "tags": []
   },
   "outputs": [],
   "source": [
    "## Basic libraries\n",
    "\n",
    "import pandas as pd\n",
    "import ast #\n",
    "import numpy as np\n",
    "import matplotlib.pyplot as plt\n",
    "import matplotlib.dates as mdates\n",
    "import seaborn as sns\n",
    "\n",
    "## Settings\n",
    "\n",
    "pd.set_option('display.max_columns', None) # display all columns\n",
    "import warnings\n",
    "warnings.filterwarnings('ignore') # ignore warnings"
   ]
  },
  {
   "cell_type": "markdown",
   "id": "3230ebc2-ebc6-4525-a21e-a58bb312e6ed",
   "metadata": {},
   "source": [
    "<h2 style=\"color: #327a81;\">Data Read</h2>"
   ]
  },
  {
   "cell_type": "code",
   "execution_count": 2,
   "id": "f171971a-b591-4db0-9d70-5e5aff8ab4b0",
   "metadata": {
    "tags": []
   },
   "outputs": [],
   "source": [
    "data= pd.read_csv(\"netflix_mood_recommender.csv\")"
   ]
  },
  {
   "cell_type": "code",
   "execution_count": 4,
   "id": "b1d2b135-1100-46ea-a4de-d5e03fb2a989",
   "metadata": {
    "tags": []
   },
   "outputs": [],
   "source": [
    "df = data.copy()"
   ]
  },
  {
   "cell_type": "markdown",
   "id": "bd1ea49c-e96a-4d1f-9792-5aedb7ff5da7",
   "metadata": {},
   "source": [
    "<h1 style=\"color: #492c68;\">MOOD RECOMMENDER</h1>"
   ]
  },
  {
   "cell_type": "markdown",
   "id": "c32aea11-7286-48ba-9fd3-8a8bef24ded7",
   "metadata": {},
   "source": [
    "- Let's finally build our mood recommender. We will code a way to ask the user for a kind of mood and we'll show suggestions from our titles"
   ]
  },
  {
   "cell_type": "code",
   "execution_count": 5,
   "id": "1829e331-d016-4239-9e26-49403e5c128b",
   "metadata": {
    "tags": []
   },
   "outputs": [
    {
     "data": {
      "text/html": [
       "<div>\n",
       "<style scoped>\n",
       "    .dataframe tbody tr th:only-of-type {\n",
       "        vertical-align: middle;\n",
       "    }\n",
       "\n",
       "    .dataframe tbody tr th {\n",
       "        vertical-align: top;\n",
       "    }\n",
       "\n",
       "    .dataframe thead th {\n",
       "        text-align: right;\n",
       "    }\n",
       "</style>\n",
       "<table border=\"1\" class=\"dataframe\">\n",
       "  <thead>\n",
       "    <tr style=\"text-align: right;\">\n",
       "      <th></th>\n",
       "      <th>show_id</th>\n",
       "      <th>type</th>\n",
       "      <th>title</th>\n",
       "      <th>director</th>\n",
       "      <th>cast</th>\n",
       "      <th>country</th>\n",
       "      <th>date_added</th>\n",
       "      <th>rating</th>\n",
       "      <th>listed_in</th>\n",
       "      <th>n_seasons</th>\n",
       "      <th>movie_lenght</th>\n",
       "      <th>description</th>\n",
       "      <th>mood</th>\n",
       "    </tr>\n",
       "  </thead>\n",
       "  <tbody>\n",
       "    <tr>\n",
       "      <th>5250</th>\n",
       "      <td>s5251</td>\n",
       "      <td>TV Show</td>\n",
       "      <td>What She Put on the Table</td>\n",
       "      <td>Not Provided</td>\n",
       "      <td>Amber An, Sun Ke-fang, Chang Yao-jen, Wang Man...</td>\n",
       "      <td>Taiwan</td>\n",
       "      <td>2017-10-01</td>\n",
       "      <td>TV-14</td>\n",
       "      <td>International TV Shows, TV Dramas</td>\n",
       "      <td>1.0</td>\n",
       "      <td>NaN</td>\n",
       "      <td>Based on the life of TV chef Fu Pei-mei, this ...</td>\n",
       "      <td>joy, disgust</td>\n",
       "    </tr>\n",
       "    <tr>\n",
       "      <th>4199</th>\n",
       "      <td>s4200</td>\n",
       "      <td>TV Show</td>\n",
       "      <td>Back with the Ex</td>\n",
       "      <td>Not Provided</td>\n",
       "      <td>Not Provided</td>\n",
       "      <td>Not Provided</td>\n",
       "      <td>2019-01-11</td>\n",
       "      <td>TV-MA</td>\n",
       "      <td>International TV Shows, Reality TV, Romantic T...</td>\n",
       "      <td>1.0</td>\n",
       "      <td>NaN</td>\n",
       "      <td>New beginnings or old baggage? Four singles ha...</td>\n",
       "      <td>joy, surprise</td>\n",
       "    </tr>\n",
       "    <tr>\n",
       "      <th>4586</th>\n",
       "      <td>s4587</td>\n",
       "      <td>Movie</td>\n",
       "      <td>Mugamoodi</td>\n",
       "      <td>Mysskin</td>\n",
       "      <td>Jiiva, Pooja Hegde, Narain, Nasser, Girish Kar...</td>\n",
       "      <td>India</td>\n",
       "      <td>2018-10-01</td>\n",
       "      <td>TV-14</td>\n",
       "      <td>Action &amp; Adventure, International Movies</td>\n",
       "      <td>NaN</td>\n",
       "      <td>150.0</td>\n",
       "      <td>A martial arts specialist accidentally becomes...</td>\n",
       "      <td>disgust, anger</td>\n",
       "    </tr>\n",
       "    <tr>\n",
       "      <th>4442</th>\n",
       "      <td>s4443</td>\n",
       "      <td>Movie</td>\n",
       "      <td>Himmatwala</td>\n",
       "      <td>Sajid Khan</td>\n",
       "      <td>Ajay Devgn, Tamannaah Bhatia, Paresh Rawal, Za...</td>\n",
       "      <td>India</td>\n",
       "      <td>2018-11-01</td>\n",
       "      <td>TV-14</td>\n",
       "      <td>Action &amp; Adventure, Comedies, International Mo...</td>\n",
       "      <td>NaN</td>\n",
       "      <td>140.0</td>\n",
       "      <td>A young man returns to his native village on a...</td>\n",
       "      <td>anger, disgust</td>\n",
       "    </tr>\n",
       "    <tr>\n",
       "      <th>1167</th>\n",
       "      <td>s1168</td>\n",
       "      <td>Movie</td>\n",
       "      <td>Caught by a Wave</td>\n",
       "      <td>Massimiliano Camaiti</td>\n",
       "      <td>Elvira Camarrone, Christian Roberto, Donatella...</td>\n",
       "      <td>Italy</td>\n",
       "      <td>2021-03-25</td>\n",
       "      <td>TV-14</td>\n",
       "      <td>Dramas, International Movies, Romantic Movies</td>\n",
       "      <td>NaN</td>\n",
       "      <td>100.0</td>\n",
       "      <td>After falling in love at a sailing summer camp...</td>\n",
       "      <td>anger, sadness</td>\n",
       "    </tr>\n",
       "  </tbody>\n",
       "</table>\n",
       "</div>"
      ],
      "text/plain": [
       "     show_id     type                      title              director  \\\n",
       "5250   s5251  TV Show  What She Put on the Table          Not Provided   \n",
       "4199   s4200  TV Show           Back with the Ex          Not Provided   \n",
       "4586   s4587    Movie                  Mugamoodi               Mysskin   \n",
       "4442   s4443    Movie                 Himmatwala            Sajid Khan   \n",
       "1167   s1168    Movie           Caught by a Wave  Massimiliano Camaiti   \n",
       "\n",
       "                                                   cast       country  \\\n",
       "5250  Amber An, Sun Ke-fang, Chang Yao-jen, Wang Man...        Taiwan   \n",
       "4199                                       Not Provided  Not Provided   \n",
       "4586  Jiiva, Pooja Hegde, Narain, Nasser, Girish Kar...         India   \n",
       "4442  Ajay Devgn, Tamannaah Bhatia, Paresh Rawal, Za...         India   \n",
       "1167  Elvira Camarrone, Christian Roberto, Donatella...         Italy   \n",
       "\n",
       "      date_added rating                                          listed_in  \\\n",
       "5250  2017-10-01  TV-14                  International TV Shows, TV Dramas   \n",
       "4199  2019-01-11  TV-MA  International TV Shows, Reality TV, Romantic T...   \n",
       "4586  2018-10-01  TV-14           Action & Adventure, International Movies   \n",
       "4442  2018-11-01  TV-14  Action & Adventure, Comedies, International Mo...   \n",
       "1167  2021-03-25  TV-14      Dramas, International Movies, Romantic Movies   \n",
       "\n",
       "      n_seasons  movie_lenght  \\\n",
       "5250        1.0           NaN   \n",
       "4199        1.0           NaN   \n",
       "4586        NaN         150.0   \n",
       "4442        NaN         140.0   \n",
       "1167        NaN         100.0   \n",
       "\n",
       "                                            description            mood  \n",
       "5250  Based on the life of TV chef Fu Pei-mei, this ...    joy, disgust  \n",
       "4199  New beginnings or old baggage? Four singles ha...   joy, surprise  \n",
       "4586  A martial arts specialist accidentally becomes...  disgust, anger  \n",
       "4442  A young man returns to his native village on a...  anger, disgust  \n",
       "1167  After falling in love at a sailing summer camp...  anger, sadness  "
      ]
     },
     "execution_count": 5,
     "metadata": {},
     "output_type": "execute_result"
    }
   ],
   "source": [
    "# First let's check a sample our final df\n",
    "\n",
    "df.sample(5)"
   ]
  },
  {
   "cell_type": "code",
   "execution_count": null,
   "id": "5afc715a-7d19-4ebd-bc3a-32e4b0d2a786",
   "metadata": {},
   "outputs": [],
   "source": [
    "def mood_recommender():\n",
    "    "
   ]
  },
  {
   "cell_type": "code",
   "execution_count": 20,
   "id": "6dfa4926-7a3a-42b9-9423-31c610b0a005",
   "metadata": {
    "tags": []
   },
   "outputs": [
    {
     "name": "stdin",
     "output_type": "stream",
     "text": [
      "Do you want to watch a Movie or a Tv Show?:  1\n"
     ]
    },
    {
     "name": "stdout",
     "output_type": "stream",
     "text": [
      "hola\n"
     ]
    }
   ],
   "source": [
    "choice = int(input(\"Do you want to watch a Movie or a Tv Show?: \"))\n",
    "\n",
    "if choice == 1:\n",
    "    print(\"hola\")"
   ]
  },
  {
   "cell_type": "code",
   "execution_count": null,
   "id": "cc6e4744-240c-4b19-8284-6580b1f20f8a",
   "metadata": {},
   "outputs": [],
   "source": []
  }
 ],
 "metadata": {
  "kernelspec": {
   "display_name": "Python 3 (ipykernel)",
   "language": "python",
   "name": "python3"
  },
  "language_info": {
   "codemirror_mode": {
    "name": "ipython",
    "version": 3
   },
   "file_extension": ".py",
   "mimetype": "text/x-python",
   "name": "python",
   "nbconvert_exporter": "python",
   "pygments_lexer": "ipython3",
   "version": "3.11.5"
  }
 },
 "nbformat": 4,
 "nbformat_minor": 5
}
