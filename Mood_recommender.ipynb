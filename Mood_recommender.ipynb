{
 "cells": [
  {
   "cell_type": "markdown",
   "id": "0e1869cb-94f2-46a5-89f8-e2a4f394a4f4",
   "metadata": {},
   "source": [
    "<h1 style=\"color: #492c68;\">01 | BASICS</h1>"
   ]
  },
  {
   "cell_type": "markdown",
   "id": "5b986eb5-bd64-4bb6-b110-34af3d646c85",
   "metadata": {
    "tags": []
   },
   "source": [
    "<h2 style=\"color: #327a81;\">Libraries</h2>"
   ]
  },
  {
   "cell_type": "code",
   "execution_count": 1,
   "id": "fe9ca9b4-bedc-445d-817c-e296d61e18fb",
   "metadata": {
    "tags": []
   },
   "outputs": [],
   "source": [
    "## Basic libraries\n",
    "\n",
    "import pandas as pd\n",
    "import ast #\n",
    "import numpy as np\n",
    "import matplotlib.pyplot as plt\n",
    "import matplotlib.dates as mdates\n",
    "import seaborn as sns\n",
    "\n",
    "## Settings\n",
    "\n",
    "pd.set_option('display.max_columns', None) # display all columns\n",
    "import warnings\n",
    "warnings.filterwarnings('ignore') # ignore warnings"
   ]
  },
  {
   "cell_type": "markdown",
   "id": "3230ebc2-ebc6-4525-a21e-a58bb312e6ed",
   "metadata": {},
   "source": [
    "<h2 style=\"color: #327a81;\">Data Read</h2>"
   ]
  },
  {
   "cell_type": "code",
   "execution_count": 2,
   "id": "f171971a-b591-4db0-9d70-5e5aff8ab4b0",
   "metadata": {
    "tags": []
   },
   "outputs": [],
   "source": [
    "data= pd.read_csv(\"netflix_mood_recommender.csv\")"
   ]
  },
  {
   "cell_type": "code",
   "execution_count": 3,
   "id": "b1d2b135-1100-46ea-a4de-d5e03fb2a989",
   "metadata": {
    "tags": []
   },
   "outputs": [],
   "source": [
    "df = data.copy()"
   ]
  },
  {
   "cell_type": "markdown",
   "id": "bd1ea49c-e96a-4d1f-9792-5aedb7ff5da7",
   "metadata": {},
   "source": [
    "<h1 style=\"color: #492c68;\">02 | MOOD RECOMMENDER</h1>"
   ]
  },
  {
   "cell_type": "markdown",
   "id": "c32aea11-7286-48ba-9fd3-8a8bef24ded7",
   "metadata": {},
   "source": [
    "- Let's finally build our mood recommender. We will code a way to ask the user for a kind of mood and we'll show suggestions from our titles"
   ]
  },
  {
   "cell_type": "code",
   "execution_count": 4,
   "id": "1829e331-d016-4239-9e26-49403e5c128b",
   "metadata": {
    "tags": []
   },
   "outputs": [
    {
     "data": {
      "text/html": [
       "<div>\n",
       "<style scoped>\n",
       "    .dataframe tbody tr th:only-of-type {\n",
       "        vertical-align: middle;\n",
       "    }\n",
       "\n",
       "    .dataframe tbody tr th {\n",
       "        vertical-align: top;\n",
       "    }\n",
       "\n",
       "    .dataframe thead th {\n",
       "        text-align: right;\n",
       "    }\n",
       "</style>\n",
       "<table border=\"1\" class=\"dataframe\">\n",
       "  <thead>\n",
       "    <tr style=\"text-align: right;\">\n",
       "      <th></th>\n",
       "      <th>show_id</th>\n",
       "      <th>type</th>\n",
       "      <th>title</th>\n",
       "      <th>director</th>\n",
       "      <th>cast</th>\n",
       "      <th>country</th>\n",
       "      <th>date_added</th>\n",
       "      <th>rating</th>\n",
       "      <th>listed_in</th>\n",
       "      <th>n_seasons</th>\n",
       "      <th>movie_lenght</th>\n",
       "      <th>description</th>\n",
       "      <th>mood</th>\n",
       "    </tr>\n",
       "  </thead>\n",
       "  <tbody>\n",
       "    <tr>\n",
       "      <th>7374</th>\n",
       "      <td>s7375</td>\n",
       "      <td>Movie</td>\n",
       "      <td>Madre</td>\n",
       "      <td>Aaron Burns</td>\n",
       "      <td>Daniela Ramírez, Cristobal Tapia Montt, Aida, ...</td>\n",
       "      <td>Chile</td>\n",
       "      <td>2017-08-26</td>\n",
       "      <td>TV-MA</td>\n",
       "      <td>International Movies, Thrillers</td>\n",
       "      <td>NaN</td>\n",
       "      <td>95.0</td>\n",
       "      <td>Pregnant and overwhelmed, Diana hires a careta...</td>\n",
       "      <td>fear, surprise</td>\n",
       "    </tr>\n",
       "    <tr>\n",
       "      <th>4701</th>\n",
       "      <td>s4702</td>\n",
       "      <td>Movie</td>\n",
       "      <td>For Here or to Go?</td>\n",
       "      <td>Rucha Humnabadkar</td>\n",
       "      <td>Ali Fazal, Melanie Chandra, Rajit Kapoor, Amit...</td>\n",
       "      <td>United States, India</td>\n",
       "      <td>2018-08-15</td>\n",
       "      <td>TV-MA</td>\n",
       "      <td>Comedies, Dramas, Independent Movies</td>\n",
       "      <td>NaN</td>\n",
       "      <td>105.0</td>\n",
       "      <td>A software engineer must decide if he'd rather...</td>\n",
       "      <td>disgust, anger</td>\n",
       "    </tr>\n",
       "  </tbody>\n",
       "</table>\n",
       "</div>"
      ],
      "text/plain": [
       "     show_id   type               title           director  \\\n",
       "7374   s7375  Movie               Madre        Aaron Burns   \n",
       "4701   s4702  Movie  For Here or to Go?  Rucha Humnabadkar   \n",
       "\n",
       "                                                   cast               country  \\\n",
       "7374  Daniela Ramírez, Cristobal Tapia Montt, Aida, ...                 Chile   \n",
       "4701  Ali Fazal, Melanie Chandra, Rajit Kapoor, Amit...  United States, India   \n",
       "\n",
       "      date_added rating                             listed_in  n_seasons  \\\n",
       "7374  2017-08-26  TV-MA       International Movies, Thrillers        NaN   \n",
       "4701  2018-08-15  TV-MA  Comedies, Dramas, Independent Movies        NaN   \n",
       "\n",
       "      movie_lenght                                        description  \\\n",
       "7374          95.0  Pregnant and overwhelmed, Diana hires a careta...   \n",
       "4701         105.0  A software engineer must decide if he'd rather...   \n",
       "\n",
       "                mood  \n",
       "7374  fear, surprise  \n",
       "4701  disgust, anger  "
      ]
     },
     "execution_count": 4,
     "metadata": {},
     "output_type": "execute_result"
    }
   ],
   "source": [
    "# First let's check a sample our final df\n",
    "\n",
    "df.sample(2)"
   ]
  },
  {
   "cell_type": "code",
   "execution_count": 5,
   "id": "bd924bdc-fb36-4270-918b-c31286a7531d",
   "metadata": {
    "tags": []
   },
   "outputs": [
    {
     "data": {
      "text/plain": [
       "(8807, 13)"
      ]
     },
     "execution_count": 5,
     "metadata": {},
     "output_type": "execute_result"
    }
   ],
   "source": [
    "df.shape"
   ]
  },
  {
   "cell_type": "markdown",
   "id": "e4e56200-2a89-4573-908c-39589f8c53e4",
   "metadata": {
    "tags": []
   },
   "source": [
    "<h2 style=\"color: #327a81;\">Mood one hot encoding</h2>"
   ]
  },
  {
   "cell_type": "markdown",
   "id": "cc23ae77-b3ac-48c3-8a27-0242ba906217",
   "metadata": {},
   "source": [
    "- Let's “hot code” the moods in the dataset so that our recommender works more efficiently."
   ]
  },
  {
   "cell_type": "code",
   "execution_count": 6,
   "id": "0e4a59d8-415a-4fe3-8d5b-a3092b9a580d",
   "metadata": {
    "tags": []
   },
   "outputs": [],
   "source": [
    "# First we stack moods. One by one for each title\n",
    "\n",
    "mood_encoding = df.drop(columns=\"mood\").join(df[\"mood\"].str.split(\", \", expand=True).stack().reset_index(level=1, drop=True).rename(\"mood\"))"
   ]
  },
  {
   "cell_type": "code",
   "execution_count": 7,
   "id": "86dc8517-2dbf-4a4c-809e-ea857625e1b9",
   "metadata": {
    "tags": []
   },
   "outputs": [],
   "source": [
    "# Then we apply \"get dummies\" to encode all mood possibilities\n",
    "\n",
    "mood_encoding = pd.get_dummies(mood_encoding, columns=[\"mood\"])*1"
   ]
  },
  {
   "cell_type": "code",
   "execution_count": 8,
   "id": "0d387868-abba-4f42-bac8-614aa8f777b9",
   "metadata": {
    "tags": []
   },
   "outputs": [
    {
     "data": {
      "text/html": [
       "<div>\n",
       "<style scoped>\n",
       "    .dataframe tbody tr th:only-of-type {\n",
       "        vertical-align: middle;\n",
       "    }\n",
       "\n",
       "    .dataframe tbody tr th {\n",
       "        vertical-align: top;\n",
       "    }\n",
       "\n",
       "    .dataframe thead th {\n",
       "        text-align: right;\n",
       "    }\n",
       "</style>\n",
       "<table border=\"1\" class=\"dataframe\">\n",
       "  <thead>\n",
       "    <tr style=\"text-align: right;\">\n",
       "      <th></th>\n",
       "      <th>show_id</th>\n",
       "      <th>type</th>\n",
       "      <th>title</th>\n",
       "      <th>director</th>\n",
       "      <th>cast</th>\n",
       "      <th>country</th>\n",
       "      <th>date_added</th>\n",
       "      <th>rating</th>\n",
       "      <th>listed_in</th>\n",
       "      <th>n_seasons</th>\n",
       "      <th>movie_lenght</th>\n",
       "      <th>description</th>\n",
       "      <th>mood_anger</th>\n",
       "      <th>mood_disgust</th>\n",
       "      <th>mood_fear</th>\n",
       "      <th>mood_joy</th>\n",
       "      <th>mood_sadness</th>\n",
       "      <th>mood_surprise</th>\n",
       "    </tr>\n",
       "  </thead>\n",
       "  <tbody>\n",
       "    <tr>\n",
       "      <th>0</th>\n",
       "      <td>s1</td>\n",
       "      <td>Movie</td>\n",
       "      <td>Dick Johnson Is Dead</td>\n",
       "      <td>Kirsten Johnson</td>\n",
       "      <td>Not Provided</td>\n",
       "      <td>United States</td>\n",
       "      <td>2021-09-25</td>\n",
       "      <td>PG-13</td>\n",
       "      <td>Documentaries</td>\n",
       "      <td>NaN</td>\n",
       "      <td>90.0</td>\n",
       "      <td>As her father nears the end of his life, filmm...</td>\n",
       "      <td>0</td>\n",
       "      <td>0</td>\n",
       "      <td>0</td>\n",
       "      <td>0</td>\n",
       "      <td>1</td>\n",
       "      <td>0</td>\n",
       "    </tr>\n",
       "    <tr>\n",
       "      <th>0</th>\n",
       "      <td>s1</td>\n",
       "      <td>Movie</td>\n",
       "      <td>Dick Johnson Is Dead</td>\n",
       "      <td>Kirsten Johnson</td>\n",
       "      <td>Not Provided</td>\n",
       "      <td>United States</td>\n",
       "      <td>2021-09-25</td>\n",
       "      <td>PG-13</td>\n",
       "      <td>Documentaries</td>\n",
       "      <td>NaN</td>\n",
       "      <td>90.0</td>\n",
       "      <td>As her father nears the end of his life, filmm...</td>\n",
       "      <td>0</td>\n",
       "      <td>0</td>\n",
       "      <td>0</td>\n",
       "      <td>1</td>\n",
       "      <td>0</td>\n",
       "      <td>0</td>\n",
       "    </tr>\n",
       "  </tbody>\n",
       "</table>\n",
       "</div>"
      ],
      "text/plain": [
       "  show_id   type                 title         director          cast  \\\n",
       "0      s1  Movie  Dick Johnson Is Dead  Kirsten Johnson  Not Provided   \n",
       "0      s1  Movie  Dick Johnson Is Dead  Kirsten Johnson  Not Provided   \n",
       "\n",
       "         country  date_added rating      listed_in  n_seasons  movie_lenght  \\\n",
       "0  United States  2021-09-25  PG-13  Documentaries        NaN          90.0   \n",
       "0  United States  2021-09-25  PG-13  Documentaries        NaN          90.0   \n",
       "\n",
       "                                         description  mood_anger  \\\n",
       "0  As her father nears the end of his life, filmm...           0   \n",
       "0  As her father nears the end of his life, filmm...           0   \n",
       "\n",
       "   mood_disgust  mood_fear  mood_joy  mood_sadness  mood_surprise  \n",
       "0             0          0         0             1              0  \n",
       "0             0          0         1             0              0  "
      ]
     },
     "execution_count": 8,
     "metadata": {},
     "output_type": "execute_result"
    }
   ],
   "source": [
    "# Check out the encoding results\n",
    "\n",
    "mood_encoding.head(2)"
   ]
  },
  {
   "cell_type": "code",
   "execution_count": 9,
   "id": "865ca07a-5b55-4cd1-954b-3a5eb15eca0c",
   "metadata": {
    "tags": []
   },
   "outputs": [
    {
     "data": {
      "text/html": [
       "<div>\n",
       "<style scoped>\n",
       "    .dataframe tbody tr th:only-of-type {\n",
       "        vertical-align: middle;\n",
       "    }\n",
       "\n",
       "    .dataframe tbody tr th {\n",
       "        vertical-align: top;\n",
       "    }\n",
       "\n",
       "    .dataframe thead th {\n",
       "        text-align: right;\n",
       "    }\n",
       "</style>\n",
       "<table border=\"1\" class=\"dataframe\">\n",
       "  <thead>\n",
       "    <tr style=\"text-align: right;\">\n",
       "      <th></th>\n",
       "      <th>show_id</th>\n",
       "      <th>type</th>\n",
       "      <th>title</th>\n",
       "      <th>director</th>\n",
       "      <th>cast</th>\n",
       "      <th>country</th>\n",
       "      <th>date_added</th>\n",
       "      <th>rating</th>\n",
       "      <th>listed_in</th>\n",
       "      <th>n_seasons</th>\n",
       "      <th>movie_lenght</th>\n",
       "      <th>description</th>\n",
       "      <th>mood</th>\n",
       "      <th>mood_anger</th>\n",
       "      <th>mood_disgust</th>\n",
       "      <th>mood_fear</th>\n",
       "      <th>mood_joy</th>\n",
       "      <th>mood_sadness</th>\n",
       "      <th>mood_surprise</th>\n",
       "    </tr>\n",
       "  </thead>\n",
       "  <tbody>\n",
       "    <tr>\n",
       "      <th>0</th>\n",
       "      <td>s1</td>\n",
       "      <td>Movie</td>\n",
       "      <td>Dick Johnson Is Dead</td>\n",
       "      <td>Kirsten Johnson</td>\n",
       "      <td>Not Provided</td>\n",
       "      <td>United States</td>\n",
       "      <td>2021-09-25</td>\n",
       "      <td>PG-13</td>\n",
       "      <td>Documentaries</td>\n",
       "      <td>NaN</td>\n",
       "      <td>90.0</td>\n",
       "      <td>As her father nears the end of his life, filmm...</td>\n",
       "      <td>sadness, joy</td>\n",
       "      <td>0</td>\n",
       "      <td>0</td>\n",
       "      <td>0</td>\n",
       "      <td>1</td>\n",
       "      <td>1</td>\n",
       "      <td>0</td>\n",
       "    </tr>\n",
       "    <tr>\n",
       "      <th>1</th>\n",
       "      <td>s2</td>\n",
       "      <td>TV Show</td>\n",
       "      <td>Blood &amp; Water</td>\n",
       "      <td>Not Provided</td>\n",
       "      <td>Ama Qamata, Khosi Ngema, Gail Mabalane, Thaban...</td>\n",
       "      <td>South Africa</td>\n",
       "      <td>2021-09-24</td>\n",
       "      <td>TV-MA</td>\n",
       "      <td>International TV Shows, TV Dramas, TV Mysteries</td>\n",
       "      <td>2.0</td>\n",
       "      <td>NaN</td>\n",
       "      <td>After crossing paths at a party, a Cape Town t...</td>\n",
       "      <td>disgust, fear</td>\n",
       "      <td>0</td>\n",
       "      <td>1</td>\n",
       "      <td>1</td>\n",
       "      <td>0</td>\n",
       "      <td>0</td>\n",
       "      <td>0</td>\n",
       "    </tr>\n",
       "    <tr>\n",
       "      <th>2</th>\n",
       "      <td>s3</td>\n",
       "      <td>TV Show</td>\n",
       "      <td>Ganglands</td>\n",
       "      <td>Julien Leclercq</td>\n",
       "      <td>Sami Bouajila, Tracy Gotoas, Samuel Jouy, Nabi...</td>\n",
       "      <td>Not Provided</td>\n",
       "      <td>2021-09-24</td>\n",
       "      <td>TV-MA</td>\n",
       "      <td>Crime TV Shows, International TV Shows, TV Act...</td>\n",
       "      <td>1.0</td>\n",
       "      <td>NaN</td>\n",
       "      <td>To protect his family from a powerful drug lor...</td>\n",
       "      <td>anger, disgust</td>\n",
       "      <td>1</td>\n",
       "      <td>1</td>\n",
       "      <td>0</td>\n",
       "      <td>0</td>\n",
       "      <td>0</td>\n",
       "      <td>0</td>\n",
       "    </tr>\n",
       "    <tr>\n",
       "      <th>3</th>\n",
       "      <td>s4</td>\n",
       "      <td>TV Show</td>\n",
       "      <td>Jailbirds New Orleans</td>\n",
       "      <td>Not Provided</td>\n",
       "      <td>Not Provided</td>\n",
       "      <td>Not Provided</td>\n",
       "      <td>2021-09-24</td>\n",
       "      <td>TV-MA</td>\n",
       "      <td>Docuseries, Reality TV</td>\n",
       "      <td>1.0</td>\n",
       "      <td>NaN</td>\n",
       "      <td>Feuds, flirtations and toilet talk go down amo...</td>\n",
       "      <td>disgust, joy</td>\n",
       "      <td>0</td>\n",
       "      <td>1</td>\n",
       "      <td>0</td>\n",
       "      <td>1</td>\n",
       "      <td>0</td>\n",
       "      <td>0</td>\n",
       "    </tr>\n",
       "    <tr>\n",
       "      <th>4</th>\n",
       "      <td>s5</td>\n",
       "      <td>TV Show</td>\n",
       "      <td>Kota Factory</td>\n",
       "      <td>Not Provided</td>\n",
       "      <td>Mayur More, Jitendra Kumar, Ranjan Raj, Alam K...</td>\n",
       "      <td>India</td>\n",
       "      <td>2021-09-24</td>\n",
       "      <td>TV-MA</td>\n",
       "      <td>International TV Shows, Romantic TV Shows, TV ...</td>\n",
       "      <td>2.0</td>\n",
       "      <td>NaN</td>\n",
       "      <td>In a city of coaching centers known to train I...</td>\n",
       "      <td>disgust, fear</td>\n",
       "      <td>0</td>\n",
       "      <td>1</td>\n",
       "      <td>1</td>\n",
       "      <td>0</td>\n",
       "      <td>0</td>\n",
       "      <td>0</td>\n",
       "    </tr>\n",
       "    <tr>\n",
       "      <th>...</th>\n",
       "      <td>...</td>\n",
       "      <td>...</td>\n",
       "      <td>...</td>\n",
       "      <td>...</td>\n",
       "      <td>...</td>\n",
       "      <td>...</td>\n",
       "      <td>...</td>\n",
       "      <td>...</td>\n",
       "      <td>...</td>\n",
       "      <td>...</td>\n",
       "      <td>...</td>\n",
       "      <td>...</td>\n",
       "      <td>...</td>\n",
       "      <td>...</td>\n",
       "      <td>...</td>\n",
       "      <td>...</td>\n",
       "      <td>...</td>\n",
       "      <td>...</td>\n",
       "      <td>...</td>\n",
       "    </tr>\n",
       "    <tr>\n",
       "      <th>8802</th>\n",
       "      <td>s8803</td>\n",
       "      <td>Movie</td>\n",
       "      <td>Zodiac</td>\n",
       "      <td>David Fincher</td>\n",
       "      <td>Mark Ruffalo, Jake Gyllenhaal, Robert Downey J...</td>\n",
       "      <td>United States</td>\n",
       "      <td>2019-11-20</td>\n",
       "      <td>R</td>\n",
       "      <td>Cult Movies, Dramas, Thrillers</td>\n",
       "      <td>NaN</td>\n",
       "      <td>158.0</td>\n",
       "      <td>A political cartoonist, a crime reporter and a...</td>\n",
       "      <td>disgust, fear</td>\n",
       "      <td>0</td>\n",
       "      <td>1</td>\n",
       "      <td>1</td>\n",
       "      <td>0</td>\n",
       "      <td>0</td>\n",
       "      <td>0</td>\n",
       "    </tr>\n",
       "    <tr>\n",
       "      <th>8803</th>\n",
       "      <td>s8804</td>\n",
       "      <td>TV Show</td>\n",
       "      <td>Zombie Dumb</td>\n",
       "      <td>Not Provided</td>\n",
       "      <td>Not Provided</td>\n",
       "      <td>Not Provided</td>\n",
       "      <td>2019-07-01</td>\n",
       "      <td>TV-Y7</td>\n",
       "      <td>Kids' TV, Korean TV Shows, TV Comedies</td>\n",
       "      <td>2.0</td>\n",
       "      <td>NaN</td>\n",
       "      <td>While living alone in a spooky town, a young g...</td>\n",
       "      <td>joy, fear</td>\n",
       "      <td>0</td>\n",
       "      <td>0</td>\n",
       "      <td>1</td>\n",
       "      <td>1</td>\n",
       "      <td>0</td>\n",
       "      <td>0</td>\n",
       "    </tr>\n",
       "    <tr>\n",
       "      <th>8804</th>\n",
       "      <td>s8805</td>\n",
       "      <td>Movie</td>\n",
       "      <td>Zombieland</td>\n",
       "      <td>Ruben Fleischer</td>\n",
       "      <td>Jesse Eisenberg, Woody Harrelson, Emma Stone, ...</td>\n",
       "      <td>United States</td>\n",
       "      <td>2019-11-01</td>\n",
       "      <td>R</td>\n",
       "      <td>Comedies, Horror Movies</td>\n",
       "      <td>NaN</td>\n",
       "      <td>88.0</td>\n",
       "      <td>Looking to survive in a world taken over by zo...</td>\n",
       "      <td>fear, disgust</td>\n",
       "      <td>0</td>\n",
       "      <td>1</td>\n",
       "      <td>1</td>\n",
       "      <td>0</td>\n",
       "      <td>0</td>\n",
       "      <td>0</td>\n",
       "    </tr>\n",
       "    <tr>\n",
       "      <th>8805</th>\n",
       "      <td>s8806</td>\n",
       "      <td>Movie</td>\n",
       "      <td>Zoom</td>\n",
       "      <td>Peter Hewitt</td>\n",
       "      <td>Tim Allen, Courteney Cox, Chevy Chase, Kate Ma...</td>\n",
       "      <td>United States</td>\n",
       "      <td>2020-01-11</td>\n",
       "      <td>PG</td>\n",
       "      <td>Children &amp; Family Movies, Comedies</td>\n",
       "      <td>NaN</td>\n",
       "      <td>88.0</td>\n",
       "      <td>Dragged from civilian life, a former superhero...</td>\n",
       "      <td>disgust, fear</td>\n",
       "      <td>0</td>\n",
       "      <td>1</td>\n",
       "      <td>1</td>\n",
       "      <td>0</td>\n",
       "      <td>0</td>\n",
       "      <td>0</td>\n",
       "    </tr>\n",
       "    <tr>\n",
       "      <th>8806</th>\n",
       "      <td>s8807</td>\n",
       "      <td>Movie</td>\n",
       "      <td>Zubaan</td>\n",
       "      <td>Mozez Singh</td>\n",
       "      <td>Vicky Kaushal, Sarah-Jane Dias, Raaghav Chanan...</td>\n",
       "      <td>India</td>\n",
       "      <td>2019-03-02</td>\n",
       "      <td>TV-14</td>\n",
       "      <td>Dramas, International Movies, Music &amp; Musicals</td>\n",
       "      <td>NaN</td>\n",
       "      <td>111.0</td>\n",
       "      <td>A scrappy but poor boy worms his way into a ty...</td>\n",
       "      <td>fear, disgust</td>\n",
       "      <td>0</td>\n",
       "      <td>1</td>\n",
       "      <td>1</td>\n",
       "      <td>0</td>\n",
       "      <td>0</td>\n",
       "      <td>0</td>\n",
       "    </tr>\n",
       "  </tbody>\n",
       "</table>\n",
       "<p>8807 rows × 19 columns</p>\n",
       "</div>"
      ],
      "text/plain": [
       "     show_id     type                  title         director  \\\n",
       "0         s1    Movie   Dick Johnson Is Dead  Kirsten Johnson   \n",
       "1         s2  TV Show          Blood & Water     Not Provided   \n",
       "2         s3  TV Show              Ganglands  Julien Leclercq   \n",
       "3         s4  TV Show  Jailbirds New Orleans     Not Provided   \n",
       "4         s5  TV Show           Kota Factory     Not Provided   \n",
       "...      ...      ...                    ...              ...   \n",
       "8802   s8803    Movie                 Zodiac    David Fincher   \n",
       "8803   s8804  TV Show            Zombie Dumb     Not Provided   \n",
       "8804   s8805    Movie             Zombieland  Ruben Fleischer   \n",
       "8805   s8806    Movie                   Zoom     Peter Hewitt   \n",
       "8806   s8807    Movie                 Zubaan      Mozez Singh   \n",
       "\n",
       "                                                   cast        country  \\\n",
       "0                                          Not Provided  United States   \n",
       "1     Ama Qamata, Khosi Ngema, Gail Mabalane, Thaban...   South Africa   \n",
       "2     Sami Bouajila, Tracy Gotoas, Samuel Jouy, Nabi...   Not Provided   \n",
       "3                                          Not Provided   Not Provided   \n",
       "4     Mayur More, Jitendra Kumar, Ranjan Raj, Alam K...          India   \n",
       "...                                                 ...            ...   \n",
       "8802  Mark Ruffalo, Jake Gyllenhaal, Robert Downey J...  United States   \n",
       "8803                                       Not Provided   Not Provided   \n",
       "8804  Jesse Eisenberg, Woody Harrelson, Emma Stone, ...  United States   \n",
       "8805  Tim Allen, Courteney Cox, Chevy Chase, Kate Ma...  United States   \n",
       "8806  Vicky Kaushal, Sarah-Jane Dias, Raaghav Chanan...          India   \n",
       "\n",
       "      date_added rating                                          listed_in  \\\n",
       "0     2021-09-25  PG-13                                      Documentaries   \n",
       "1     2021-09-24  TV-MA    International TV Shows, TV Dramas, TV Mysteries   \n",
       "2     2021-09-24  TV-MA  Crime TV Shows, International TV Shows, TV Act...   \n",
       "3     2021-09-24  TV-MA                             Docuseries, Reality TV   \n",
       "4     2021-09-24  TV-MA  International TV Shows, Romantic TV Shows, TV ...   \n",
       "...          ...    ...                                                ...   \n",
       "8802  2019-11-20      R                     Cult Movies, Dramas, Thrillers   \n",
       "8803  2019-07-01  TV-Y7             Kids' TV, Korean TV Shows, TV Comedies   \n",
       "8804  2019-11-01      R                            Comedies, Horror Movies   \n",
       "8805  2020-01-11     PG                 Children & Family Movies, Comedies   \n",
       "8806  2019-03-02  TV-14     Dramas, International Movies, Music & Musicals   \n",
       "\n",
       "      n_seasons  movie_lenght  \\\n",
       "0           NaN          90.0   \n",
       "1           2.0           NaN   \n",
       "2           1.0           NaN   \n",
       "3           1.0           NaN   \n",
       "4           2.0           NaN   \n",
       "...         ...           ...   \n",
       "8802        NaN         158.0   \n",
       "8803        2.0           NaN   \n",
       "8804        NaN          88.0   \n",
       "8805        NaN          88.0   \n",
       "8806        NaN         111.0   \n",
       "\n",
       "                                            description            mood  \\\n",
       "0     As her father nears the end of his life, filmm...    sadness, joy   \n",
       "1     After crossing paths at a party, a Cape Town t...   disgust, fear   \n",
       "2     To protect his family from a powerful drug lor...  anger, disgust   \n",
       "3     Feuds, flirtations and toilet talk go down amo...    disgust, joy   \n",
       "4     In a city of coaching centers known to train I...   disgust, fear   \n",
       "...                                                 ...             ...   \n",
       "8802  A political cartoonist, a crime reporter and a...   disgust, fear   \n",
       "8803  While living alone in a spooky town, a young g...       joy, fear   \n",
       "8804  Looking to survive in a world taken over by zo...   fear, disgust   \n",
       "8805  Dragged from civilian life, a former superhero...   disgust, fear   \n",
       "8806  A scrappy but poor boy worms his way into a ty...   fear, disgust   \n",
       "\n",
       "      mood_anger  mood_disgust  mood_fear  mood_joy  mood_sadness  \\\n",
       "0              0             0          0         1             1   \n",
       "1              0             1          1         0             0   \n",
       "2              1             1          0         0             0   \n",
       "3              0             1          0         1             0   \n",
       "4              0             1          1         0             0   \n",
       "...          ...           ...        ...       ...           ...   \n",
       "8802           0             1          1         0             0   \n",
       "8803           0             0          1         1             0   \n",
       "8804           0             1          1         0             0   \n",
       "8805           0             1          1         0             0   \n",
       "8806           0             1          1         0             0   \n",
       "\n",
       "      mood_surprise  \n",
       "0                 0  \n",
       "1                 0  \n",
       "2                 0  \n",
       "3                 0  \n",
       "4                 0  \n",
       "...             ...  \n",
       "8802              0  \n",
       "8803              0  \n",
       "8804              0  \n",
       "8805              0  \n",
       "8806              0  \n",
       "\n",
       "[8807 rows x 19 columns]"
      ]
     },
     "execution_count": 9,
     "metadata": {},
     "output_type": "execute_result"
    }
   ],
   "source": [
    "# Filtering the obtained dataframe to show all encoded moods by show id\n",
    "\n",
    "mood_columns = [\"mood_anger\", \"mood_disgust\", \"mood_fear\", \"mood_joy\", \"mood_sadness\", \"mood_surprise\"]\n",
    "total_moods = mood_encoding.groupby(\"show_id\")[mood_columns].sum()\n",
    "\n",
    "# And merge the og dataframe with the encoded moods by show id\n",
    "\n",
    "df_moods = df.merge(total_moods, on=\"show_id\", how=\"inner\")\n",
    "df_moods"
   ]
  },
  {
   "cell_type": "markdown",
   "id": "3917aa77-33cc-49a7-a10c-bf824a0ded97",
   "metadata": {
    "tags": []
   },
   "source": [
    "<h2 style=\"color: #327a81;\">Coding the recommender</h2>"
   ]
  },
  {
   "cell_type": "markdown",
   "id": "3723c1dc-f929-455e-ae47-f583d060f5e6",
   "metadata": {
    "tags": []
   },
   "source": [
    "<h3 style=\"color: #60b671;\">Functions for the recommender</h3>"
   ]
  },
  {
   "cell_type": "markdown",
   "id": "ae16568a-9f37-4a9c-8fb9-b68394611a30",
   "metadata": {},
   "source": [
    "- Next, we will develop the functions by steps that, at the end, will constitute the main function that will recommend a title according to the user's inputs."
   ]
  },
  {
   "cell_type": "code",
   "execution_count": 10,
   "id": "3915baf7-d57a-4bd2-b057-8fa3ff852e7c",
   "metadata": {
    "tags": []
   },
   "outputs": [],
   "source": [
    "# In type_selection, user could select between movies and tv shows\n",
    "\n",
    "def type_selection():\n",
    "    while True:\n",
    "        choice = input(\"Do you want to watch a Movie or a Tv Show?: \").strip().lower()\n",
    "        if choice == \"movie\":\n",
    "            type_mood = df_moods[df_moods[\"type\"] == \"Movie\"]\n",
    "            break\n",
    "        elif choice == \"tv show\":\n",
    "            type_mood =  df_moods[df_moods[\"type\"] == \"TV Show\"]\n",
    "            break\n",
    "        else:\n",
    "            print(f\"{choice} is an invalid choice. Please choose either Movie or TV Show.\")\n",
    "            \n",
    "    return type_mood"
   ]
  },
  {
   "cell_type": "code",
   "execution_count": 11,
   "id": "176b7f3f-bd9a-4eca-bd3c-d9264ecc18ea",
   "metadata": {
    "tags": []
   },
   "outputs": [],
   "source": [
    "# mood_selection will ask for the user's mood. Could be 1 or 2 moods\n",
    "\n",
    "def mood_selection():\n",
    "    \n",
    "    moods = [\"anger\", \"disgust\", \"fear\", \"joy\", \"sadness\", \"surprise\"]\n",
    "    \n",
    "    while True:\n",
    "        mood1 = input(f\"Select a mood according to what you want to see ({', '.join(moods)}): \").strip().lower()\n",
    "        if mood1 not in moods:\n",
    "            print(f\"{mood1} is not a valid choice. Please choose from ({', '.join(moods)}): \")\n",
    "        else:\n",
    "            break\n",
    "    while True:\n",
    "        mood2 = input(f\"Select a second mood (this is optional, press enter to skip): \").strip().lower()\n",
    "        if mood2 and mood2 not in moods:\n",
    "            print(f\"{mood2} is not a valid choice. Please choose from ({', '.join(moods)}) or press enter to skip: \")\n",
    "        else:\n",
    "            break\n",
    "    \n",
    "    return mood1, mood2"
   ]
  },
  {
   "cell_type": "code",
   "execution_count": 12,
   "id": "6b649ac3-ac04-4fc6-85b6-b9a2d7b2e6e2",
   "metadata": {
    "tags": []
   },
   "outputs": [],
   "source": [
    "# mood_recommendation will filter the dataframe grouped by type_selection and will have a new dataframe filtered by mood_selection's mood\n",
    "\n",
    "def mood_recommendation(type_mood, mood1, mood2):\n",
    "    \n",
    "    mood1_column = f\"mood_{mood1}\"\n",
    "    if mood2:\n",
    "        mood2_column = f\"mood_{mood2}\"\n",
    "        recommended = type_mood[(type_mood[mood1_column] == 1) & (type_mood[mood2_column] == 1)]\n",
    "    else:\n",
    "        recommended = type_mood[type_mood[mood1_column] == 1]\n",
    "    return recommended"
   ]
  },
  {
   "cell_type": "markdown",
   "id": "4c0f1029-6c06-4bfd-b88a-a702741230b8",
   "metadata": {
    "tags": []
   },
   "source": [
    "<h3 style=\"color: #60b671;\">Recommender main function</h3>"
   ]
  },
  {
   "cell_type": "markdown",
   "id": "d6857bcb-6e11-43d2-ada8-d64bc6d77124",
   "metadata": {},
   "source": [
    "- After defining the previous functions, we can build the main function that recommends a title "
   ]
  },
  {
   "cell_type": "code",
   "execution_count": 13,
   "id": "6db78311-e68a-41c2-a926-a54af0de8a54",
   "metadata": {
    "tags": []
   },
   "outputs": [],
   "source": [
    "# We define the function ordering the inside functions and printing the relevant information that answers to user's inputs\n",
    "\n",
    "def netflix_recommender():\n",
    "\n",
    "    type_mood = type_selection()\n",
    "    mood1, mood2 = mood_selection()\n",
    "    recommended = mood_recommendation(type_mood, mood1, mood2)\n",
    "    item_suggested = recommended.sample(1)\n",
    "    print(f\"\")\n",
    "    print(f\"Title: {item_suggested['title'].values[0]}\")\n",
    "    print(f\"Sentiment Mood: {item_suggested['mood'].values[0]}\")\n",
    "    print(f\"Categorie: {item_suggested['listed_in'].values[0]}\")\n",
    "    print(f\"Director: {item_suggested['director'].values[0]}\")\n",
    "    print(f\"Cast: {item_suggested['cast'].values[0]}\")\n",
    "    print(f\"Country: {item_suggested['country'].values[0]}\")\n",
    "    print(f\"Rating: {item_suggested['rating'].values[0]}\")\n",
    "\n",
    "    if item_suggested[\"type\"].values[0] == \"Movie\":\n",
    "        print(f\"Movie Length: {int(item_suggested['movie_lenght'].values[0])} min\")\n",
    "    elif item_suggested[\"type\"].values[0] == \"TV Show\":\n",
    "        print(f\"Number of Seasons: {item_suggested['n_seasons'].values[0]}\")\n",
    "    \n",
    "    print(f\"Description: {item_suggested['description'].values[0]}\")\n",
    "    print(f\"\")  "
   ]
  },
  {
   "cell_type": "code",
   "execution_count": 14,
   "id": "18abb00a-7ca6-494f-ad0e-017abb6af1ce",
   "metadata": {
    "tags": []
   },
   "outputs": [
    {
     "name": "stdin",
     "output_type": "stream",
     "text": [
      "Do you want to watch a Movie or a Tv Show?:  tv show\n",
      "Select a mood according to what you want to see (anger, disgust, fear, joy, sadness, surprise):  anger\n",
      "Select a second mood (this is optional, press enter to skip):  fear\n"
     ]
    },
    {
     "name": "stdout",
     "output_type": "stream",
     "text": [
      "\n",
      "Title: A Very Secret Service\n",
      "Sentiment Mood: fear, anger\n",
      "Categorie: International TV Shows, TV Comedies\n",
      "Director: Not Provided\n",
      "Cast: Hugo Becker, Wilfred Benaïche, Christophe Kourotchkine, Karim Barras, Bruno Paviot, Jean-Édouard Bodziak, Mathilde Warnier, Joséphine de La Baume, Marie-Julie Baup, Antoine Gouy, Julie Farenc\n",
      "Country: France\n",
      "Rating: TV-MA\n",
      "Number of Seasons: 2.0\n",
      "Description: At the height of the Cold War in 1960, André Merlaux joins the French Secret Service and contends with enemies both foreign and bureaucratic.\n",
      "\n"
     ]
    },
    {
     "name": "stdin",
     "output_type": "stream",
     "text": [
      "Would you like another recommendation? (yes/no):  no\n"
     ]
    },
    {
     "name": "stdout",
     "output_type": "stream",
     "text": [
      "Hope you like your selection! Enjoy!\n"
     ]
    }
   ],
   "source": [
    "# And finally we write a block that works as the recommender\n",
    "\n",
    "while True:\n",
    "    netflix_recommender()\n",
    "    new_recommendation = input(\"Would you like another recommendation? (yes/no): \").strip().lower()\n",
    "    if new_recommendation == \"no\":\n",
    "        print(\"Hope you like your selection! Enjoy!\")\n",
    "        break\n",
    "        "
   ]
  },
  {
   "cell_type": "markdown",
   "id": "590a16df-7edd-4f6f-83b1-edc559a79e90",
   "metadata": {},
   "source": [
    "<h1 style=\"color: #492c68;\">01 | EXPORTING CSV</h1>"
   ]
  },
  {
   "cell_type": "markdown",
   "id": "3350de25-c01a-4a86-96ed-67fda1223194",
   "metadata": {},
   "source": [
    "- Next step is create a streamlit app for this recommender, so let's export a new csv that includes the hot encoding columns"
   ]
  },
  {
   "cell_type": "code",
   "execution_count": 15,
   "id": "4fbb8aa5-71e7-4c66-abb0-5ee1a19ed528",
   "metadata": {
    "tags": []
   },
   "outputs": [],
   "source": [
    "df_moods.to_csv(\"df_moods.csv\", index=False)"
   ]
  }
 ],
 "metadata": {
  "kernelspec": {
   "display_name": "Python 3 (ipykernel)",
   "language": "python",
   "name": "python3"
  },
  "language_info": {
   "codemirror_mode": {
    "name": "ipython",
    "version": 3
   },
   "file_extension": ".py",
   "mimetype": "text/x-python",
   "name": "python",
   "nbconvert_exporter": "python",
   "pygments_lexer": "ipython3",
   "version": "3.11.5"
  }
 },
 "nbformat": 4,
 "nbformat_minor": 5
}
