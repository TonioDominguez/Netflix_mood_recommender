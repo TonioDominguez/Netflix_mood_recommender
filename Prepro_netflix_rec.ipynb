{
 "cells": [
  {
   "cell_type": "markdown",
   "id": "c3f66066-e071-4e88-b06e-bf99164635ef",
   "metadata": {},
   "source": [
    "<h1 style=\"color: #492c68;\">01 | PREPROCESSING</h1>"
   ]
  },
  {
   "cell_type": "markdown",
   "id": "54db6781-33c7-4a5c-92b1-3f98032bc091",
   "metadata": {
    "tags": []
   },
   "source": [
    "<h2 style=\"color: #327a81;\">Libraries</h2>"
   ]
  },
  {
   "cell_type": "code",
   "execution_count": 85,
   "id": "60a30608-8597-476d-b2e5-274831231fe9",
   "metadata": {
    "tags": []
   },
   "outputs": [],
   "source": [
    "## Basic libraries\n",
    "\n",
    "import pandas as pd\n",
    "import numpy as np\n",
    "import matplotlib.pyplot as plt\n",
    "import matplotlib.dates as mdates\n",
    "import seaborn as sns\n",
    "\n",
    "## Settings\n",
    "\n",
    "pd.set_option('display.max_columns', None) # display all columns\n",
    "import warnings\n",
    "warnings.filterwarnings('ignore') # ignore warnings\n",
    "\n",
    "# Counter for frequency\n",
    "\n",
    "from collections import Counter"
   ]
  },
  {
   "cell_type": "markdown",
   "id": "8fc4fc05-979d-453e-8025-6f2ee53cdccf",
   "metadata": {},
   "source": [
    "<h2 style=\"color: #327a81;\">Data Standardization</h2>"
   ]
  },
  {
   "cell_type": "code",
   "execution_count": 4,
   "id": "fd43c165-6e12-41bd-a26d-3b81b628c66e",
   "metadata": {
    "tags": []
   },
   "outputs": [],
   "source": [
    "data = pd.read_csv(\"netflix_titles.csv\")"
   ]
  },
  {
   "cell_type": "code",
   "execution_count": 6,
   "id": "40005235-fe7f-4c81-a425-e6e683d1c271",
   "metadata": {
    "tags": []
   },
   "outputs": [
    {
     "data": {
      "text/html": [
       "<div>\n",
       "<style scoped>\n",
       "    .dataframe tbody tr th:only-of-type {\n",
       "        vertical-align: middle;\n",
       "    }\n",
       "\n",
       "    .dataframe tbody tr th {\n",
       "        vertical-align: top;\n",
       "    }\n",
       "\n",
       "    .dataframe thead th {\n",
       "        text-align: right;\n",
       "    }\n",
       "</style>\n",
       "<table border=\"1\" class=\"dataframe\">\n",
       "  <thead>\n",
       "    <tr style=\"text-align: right;\">\n",
       "      <th></th>\n",
       "      <th>show_id</th>\n",
       "      <th>type</th>\n",
       "      <th>title</th>\n",
       "      <th>director</th>\n",
       "      <th>cast</th>\n",
       "      <th>country</th>\n",
       "      <th>date_added</th>\n",
       "      <th>release_year</th>\n",
       "      <th>rating</th>\n",
       "      <th>duration</th>\n",
       "      <th>listed_in</th>\n",
       "      <th>description</th>\n",
       "    </tr>\n",
       "  </thead>\n",
       "  <tbody>\n",
       "    <tr>\n",
       "      <th>0</th>\n",
       "      <td>s1</td>\n",
       "      <td>Movie</td>\n",
       "      <td>Dick Johnson Is Dead</td>\n",
       "      <td>Kirsten Johnson</td>\n",
       "      <td>NaN</td>\n",
       "      <td>United States</td>\n",
       "      <td>September 25, 2021</td>\n",
       "      <td>2020</td>\n",
       "      <td>PG-13</td>\n",
       "      <td>90 min</td>\n",
       "      <td>Documentaries</td>\n",
       "      <td>As her father nears the end of his life, filmm...</td>\n",
       "    </tr>\n",
       "    <tr>\n",
       "      <th>1</th>\n",
       "      <td>s2</td>\n",
       "      <td>TV Show</td>\n",
       "      <td>Blood &amp; Water</td>\n",
       "      <td>NaN</td>\n",
       "      <td>Ama Qamata, Khosi Ngema, Gail Mabalane, Thaban...</td>\n",
       "      <td>South Africa</td>\n",
       "      <td>September 24, 2021</td>\n",
       "      <td>2021</td>\n",
       "      <td>TV-MA</td>\n",
       "      <td>2 Seasons</td>\n",
       "      <td>International TV Shows, TV Dramas, TV Mysteries</td>\n",
       "      <td>After crossing paths at a party, a Cape Town t...</td>\n",
       "    </tr>\n",
       "    <tr>\n",
       "      <th>2</th>\n",
       "      <td>s3</td>\n",
       "      <td>TV Show</td>\n",
       "      <td>Ganglands</td>\n",
       "      <td>Julien Leclercq</td>\n",
       "      <td>Sami Bouajila, Tracy Gotoas, Samuel Jouy, Nabi...</td>\n",
       "      <td>NaN</td>\n",
       "      <td>September 24, 2021</td>\n",
       "      <td>2021</td>\n",
       "      <td>TV-MA</td>\n",
       "      <td>1 Season</td>\n",
       "      <td>Crime TV Shows, International TV Shows, TV Act...</td>\n",
       "      <td>To protect his family from a powerful drug lor...</td>\n",
       "    </tr>\n",
       "    <tr>\n",
       "      <th>3</th>\n",
       "      <td>s4</td>\n",
       "      <td>TV Show</td>\n",
       "      <td>Jailbirds New Orleans</td>\n",
       "      <td>NaN</td>\n",
       "      <td>NaN</td>\n",
       "      <td>NaN</td>\n",
       "      <td>September 24, 2021</td>\n",
       "      <td>2021</td>\n",
       "      <td>TV-MA</td>\n",
       "      <td>1 Season</td>\n",
       "      <td>Docuseries, Reality TV</td>\n",
       "      <td>Feuds, flirtations and toilet talk go down amo...</td>\n",
       "    </tr>\n",
       "    <tr>\n",
       "      <th>4</th>\n",
       "      <td>s5</td>\n",
       "      <td>TV Show</td>\n",
       "      <td>Kota Factory</td>\n",
       "      <td>NaN</td>\n",
       "      <td>Mayur More, Jitendra Kumar, Ranjan Raj, Alam K...</td>\n",
       "      <td>India</td>\n",
       "      <td>September 24, 2021</td>\n",
       "      <td>2021</td>\n",
       "      <td>TV-MA</td>\n",
       "      <td>2 Seasons</td>\n",
       "      <td>International TV Shows, Romantic TV Shows, TV ...</td>\n",
       "      <td>In a city of coaching centers known to train I...</td>\n",
       "    </tr>\n",
       "  </tbody>\n",
       "</table>\n",
       "</div>"
      ],
      "text/plain": [
       "  show_id     type                  title         director  \\\n",
       "0      s1    Movie   Dick Johnson Is Dead  Kirsten Johnson   \n",
       "1      s2  TV Show          Blood & Water              NaN   \n",
       "2      s3  TV Show              Ganglands  Julien Leclercq   \n",
       "3      s4  TV Show  Jailbirds New Orleans              NaN   \n",
       "4      s5  TV Show           Kota Factory              NaN   \n",
       "\n",
       "                                                cast        country  \\\n",
       "0                                                NaN  United States   \n",
       "1  Ama Qamata, Khosi Ngema, Gail Mabalane, Thaban...   South Africa   \n",
       "2  Sami Bouajila, Tracy Gotoas, Samuel Jouy, Nabi...            NaN   \n",
       "3                                                NaN            NaN   \n",
       "4  Mayur More, Jitendra Kumar, Ranjan Raj, Alam K...          India   \n",
       "\n",
       "           date_added  release_year rating   duration  \\\n",
       "0  September 25, 2021          2020  PG-13     90 min   \n",
       "1  September 24, 2021          2021  TV-MA  2 Seasons   \n",
       "2  September 24, 2021          2021  TV-MA   1 Season   \n",
       "3  September 24, 2021          2021  TV-MA   1 Season   \n",
       "4  September 24, 2021          2021  TV-MA  2 Seasons   \n",
       "\n",
       "                                           listed_in  \\\n",
       "0                                      Documentaries   \n",
       "1    International TV Shows, TV Dramas, TV Mysteries   \n",
       "2  Crime TV Shows, International TV Shows, TV Act...   \n",
       "3                             Docuseries, Reality TV   \n",
       "4  International TV Shows, Romantic TV Shows, TV ...   \n",
       "\n",
       "                                         description  \n",
       "0  As her father nears the end of his life, filmm...  \n",
       "1  After crossing paths at a party, a Cape Town t...  \n",
       "2  To protect his family from a powerful drug lor...  \n",
       "3  Feuds, flirtations and toilet talk go down amo...  \n",
       "4  In a city of coaching centers known to train I...  "
      ]
     },
     "execution_count": 6,
     "metadata": {},
     "output_type": "execute_result"
    }
   ],
   "source": [
    "data.head(5)"
   ]
  },
  {
   "cell_type": "code",
   "execution_count": 7,
   "id": "b252a025-8616-4884-96e9-42d63a38e7cf",
   "metadata": {
    "tags": []
   },
   "outputs": [],
   "source": [
    "df = data.copy() "
   ]
  },
  {
   "cell_type": "markdown",
   "id": "631b9232-f5a1-4655-8a45-6d68eaca98fe",
   "metadata": {
    "tags": []
   },
   "source": [
    "<h3 style=\"color: #60b671;\">Dataset shape & types</h3>"
   ]
  },
  {
   "cell_type": "code",
   "execution_count": 10,
   "id": "a80e30b6-7a93-4244-8ca6-837d7dc048bf",
   "metadata": {
    "tags": []
   },
   "outputs": [
    {
     "data": {
      "text/plain": [
       "(8807, 12)"
      ]
     },
     "execution_count": 10,
     "metadata": {},
     "output_type": "execute_result"
    }
   ],
   "source": [
    "df.shape"
   ]
  },
  {
   "cell_type": "code",
   "execution_count": 12,
   "id": "207dcb17-fa77-428b-925e-d610ff265a96",
   "metadata": {
    "tags": []
   },
   "outputs": [
    {
     "data": {
      "text/plain": [
       "show_id         object\n",
       "type            object\n",
       "title           object\n",
       "director        object\n",
       "cast            object\n",
       "country         object\n",
       "date_added      object\n",
       "release_year     int64\n",
       "rating          object\n",
       "duration        object\n",
       "listed_in       object\n",
       "description     object\n",
       "dtype: object"
      ]
     },
     "execution_count": 12,
     "metadata": {},
     "output_type": "execute_result"
    }
   ],
   "source": [
    "df.dtypes"
   ]
  },
  {
   "cell_type": "markdown",
   "id": "6917f145-2a6a-4d2f-b87c-2930d6b65e04",
   "metadata": {},
   "source": [
    "<h3 style=\"color: #60b671;\">Dealing with nulls and duplicates</h3>"
   ]
  },
  {
   "cell_type": "code",
   "execution_count": 13,
   "id": "9411b528-c5b8-4cd2-9089-3dcb4fabb9a2",
   "metadata": {
    "tags": []
   },
   "outputs": [
    {
     "data": {
      "text/plain": [
       "show_id            0\n",
       "type               0\n",
       "title              0\n",
       "director        2634\n",
       "cast             825\n",
       "country          831\n",
       "date_added        10\n",
       "release_year       0\n",
       "rating             4\n",
       "duration           3\n",
       "listed_in          0\n",
       "description        0\n",
       "dtype: int64"
      ]
     },
     "execution_count": 13,
     "metadata": {},
     "output_type": "execute_result"
    }
   ],
   "source": [
    "df.isnull().sum()"
   ]
  },
  {
   "cell_type": "code",
   "execution_count": 14,
   "id": "fb19aa1f-8dbb-4d50-8c5c-778b7df1ceaa",
   "metadata": {
    "tags": []
   },
   "outputs": [],
   "source": [
    "df.fillna(\"Not Provided\", inplace=True)df.isnull().sum()"
   ]
  },
  {
   "cell_type": "code",
   "execution_count": 17,
   "id": "550ce391-34ec-4eb5-a730-697f7649834d",
   "metadata": {
    "tags": []
   },
   "outputs": [
    {
     "data": {
      "text/plain": [
       "0"
      ]
     },
     "execution_count": 17,
     "metadata": {},
     "output_type": "execute_result"
    }
   ],
   "source": [
    "df.duplicated().sum()"
   ]
  },
  {
   "cell_type": "markdown",
   "id": "c17cdc92-fef8-41ca-9e48-5fbd7dccc801",
   "metadata": {},
   "source": [
    "<h3 style=\"color: #60b671;\">Dealing with dates</h3>"
   ]
  },
  {
   "cell_type": "code",
   "execution_count": 19,
   "id": "e22ceb53-c584-45d7-905d-161e993939fa",
   "metadata": {
    "tags": []
   },
   "outputs": [],
   "source": [
    "df[\"date_added\"] = pd.to_datetime(df[\"date_added\"], errors=\"coerce\")"
   ]
  },
  {
   "cell_type": "code",
   "execution_count": 22,
   "id": "c936a227-5cfb-48b2-9514-46e16b46c28f",
   "metadata": {
    "tags": []
   },
   "outputs": [],
   "source": [
    "df[\"release_year\"] = pd.to_datetime(df[\"release_year\"], errors=\"coerce\")"
   ]
  },
  {
   "cell_type": "code",
   "execution_count": 26,
   "id": "226d381b-ba81-4f51-89ae-a1f3e4ba5fe2",
   "metadata": {
    "tags": []
   },
   "outputs": [],
   "source": [
    "df[\"release_year\"] = df[\"release_year\"].dt.year"
   ]
  },
  {
   "cell_type": "code",
   "execution_count": 24,
   "id": "3199afce-4d11-4cad-a31d-1f2ff766e374",
   "metadata": {
    "tags": []
   },
   "outputs": [
    {
     "data": {
      "text/plain": [
       "show_id                 object\n",
       "type                    object\n",
       "title                   object\n",
       "director                object\n",
       "cast                    object\n",
       "country                 object\n",
       "date_added      datetime64[ns]\n",
       "release_year    datetime64[ns]\n",
       "rating                  object\n",
       "duration                object\n",
       "listed_in               object\n",
       "description             object\n",
       "dtype: object"
      ]
     },
     "execution_count": 24,
     "metadata": {},
     "output_type": "execute_result"
    }
   ],
   "source": [
    "df.dtypes"
   ]
  },
  {
   "cell_type": "code",
   "execution_count": 132,
   "id": "cfcfb483-caf9-446f-9f03-552a8dc7f60b",
   "metadata": {
    "tags": []
   },
   "outputs": [
    {
     "data": {
      "text/html": [
       "<div>\n",
       "<style scoped>\n",
       "    .dataframe tbody tr th:only-of-type {\n",
       "        vertical-align: middle;\n",
       "    }\n",
       "\n",
       "    .dataframe tbody tr th {\n",
       "        vertical-align: top;\n",
       "    }\n",
       "\n",
       "    .dataframe thead th {\n",
       "        text-align: right;\n",
       "    }\n",
       "</style>\n",
       "<table border=\"1\" class=\"dataframe\">\n",
       "  <thead>\n",
       "    <tr style=\"text-align: right;\">\n",
       "      <th></th>\n",
       "      <th>show_id</th>\n",
       "      <th>type</th>\n",
       "      <th>title</th>\n",
       "      <th>director</th>\n",
       "      <th>cast</th>\n",
       "      <th>country</th>\n",
       "      <th>date_added</th>\n",
       "      <th>release_year</th>\n",
       "      <th>rating</th>\n",
       "      <th>n_seasons</th>\n",
       "      <th>movie_lenght</th>\n",
       "      <th>listed_in</th>\n",
       "      <th>description</th>\n",
       "    </tr>\n",
       "  </thead>\n",
       "  <tbody>\n",
       "    <tr>\n",
       "      <th>0</th>\n",
       "      <td>s1</td>\n",
       "      <td>Movie</td>\n",
       "      <td>Dick Johnson Is Dead</td>\n",
       "      <td>Kirsten Johnson</td>\n",
       "      <td>Not Provided</td>\n",
       "      <td>United States</td>\n",
       "      <td>2021-09-25</td>\n",
       "      <td>1970</td>\n",
       "      <td>PG-13</td>\n",
       "      <td>NaN</td>\n",
       "      <td>90.0</td>\n",
       "      <td>Documentaries</td>\n",
       "      <td>As her father nears the end of his life, filmm...</td>\n",
       "    </tr>\n",
       "    <tr>\n",
       "      <th>1</th>\n",
       "      <td>s2</td>\n",
       "      <td>TV Show</td>\n",
       "      <td>Blood &amp; Water</td>\n",
       "      <td>Not Provided</td>\n",
       "      <td>Ama Qamata, Khosi Ngema, Gail Mabalane, Thaban...</td>\n",
       "      <td>South Africa</td>\n",
       "      <td>2021-09-24</td>\n",
       "      <td>1970</td>\n",
       "      <td>TV-MA</td>\n",
       "      <td>2.0</td>\n",
       "      <td>NaN</td>\n",
       "      <td>International TV Shows, TV Dramas, TV Mysteries</td>\n",
       "      <td>After crossing paths at a party, a Cape Town t...</td>\n",
       "    </tr>\n",
       "    <tr>\n",
       "      <th>2</th>\n",
       "      <td>s3</td>\n",
       "      <td>TV Show</td>\n",
       "      <td>Ganglands</td>\n",
       "      <td>Julien Leclercq</td>\n",
       "      <td>Sami Bouajila, Tracy Gotoas, Samuel Jouy, Nabi...</td>\n",
       "      <td>Not Provided</td>\n",
       "      <td>2021-09-24</td>\n",
       "      <td>1970</td>\n",
       "      <td>TV-MA</td>\n",
       "      <td>1.0</td>\n",
       "      <td>NaN</td>\n",
       "      <td>Crime TV Shows, International TV Shows, TV Act...</td>\n",
       "      <td>To protect his family from a powerful drug lor...</td>\n",
       "    </tr>\n",
       "    <tr>\n",
       "      <th>3</th>\n",
       "      <td>s4</td>\n",
       "      <td>TV Show</td>\n",
       "      <td>Jailbirds New Orleans</td>\n",
       "      <td>Not Provided</td>\n",
       "      <td>Not Provided</td>\n",
       "      <td>Not Provided</td>\n",
       "      <td>2021-09-24</td>\n",
       "      <td>1970</td>\n",
       "      <td>TV-MA</td>\n",
       "      <td>1.0</td>\n",
       "      <td>NaN</td>\n",
       "      <td>Docuseries, Reality TV</td>\n",
       "      <td>Feuds, flirtations and toilet talk go down amo...</td>\n",
       "    </tr>\n",
       "    <tr>\n",
       "      <th>4</th>\n",
       "      <td>s5</td>\n",
       "      <td>TV Show</td>\n",
       "      <td>Kota Factory</td>\n",
       "      <td>Not Provided</td>\n",
       "      <td>Mayur More, Jitendra Kumar, Ranjan Raj, Alam K...</td>\n",
       "      <td>India</td>\n",
       "      <td>2021-09-24</td>\n",
       "      <td>1970</td>\n",
       "      <td>TV-MA</td>\n",
       "      <td>2.0</td>\n",
       "      <td>NaN</td>\n",
       "      <td>International TV Shows, Romantic TV Shows, TV ...</td>\n",
       "      <td>In a city of coaching centers known to train I...</td>\n",
       "    </tr>\n",
       "    <tr>\n",
       "      <th>5</th>\n",
       "      <td>s6</td>\n",
       "      <td>TV Show</td>\n",
       "      <td>Midnight Mass</td>\n",
       "      <td>Mike Flanagan</td>\n",
       "      <td>Kate Siegel, Zach Gilford, Hamish Linklater, H...</td>\n",
       "      <td>Not Provided</td>\n",
       "      <td>2021-09-24</td>\n",
       "      <td>1970</td>\n",
       "      <td>TV-MA</td>\n",
       "      <td>1.0</td>\n",
       "      <td>NaN</td>\n",
       "      <td>TV Dramas, TV Horror, TV Mysteries</td>\n",
       "      <td>The arrival of a charismatic young priest brin...</td>\n",
       "    </tr>\n",
       "  </tbody>\n",
       "</table>\n",
       "</div>"
      ],
      "text/plain": [
       "  show_id     type                  title         director  \\\n",
       "0      s1    Movie   Dick Johnson Is Dead  Kirsten Johnson   \n",
       "1      s2  TV Show          Blood & Water     Not Provided   \n",
       "2      s3  TV Show              Ganglands  Julien Leclercq   \n",
       "3      s4  TV Show  Jailbirds New Orleans     Not Provided   \n",
       "4      s5  TV Show           Kota Factory     Not Provided   \n",
       "5      s6  TV Show          Midnight Mass    Mike Flanagan   \n",
       "\n",
       "                                                cast        country  \\\n",
       "0                                       Not Provided  United States   \n",
       "1  Ama Qamata, Khosi Ngema, Gail Mabalane, Thaban...   South Africa   \n",
       "2  Sami Bouajila, Tracy Gotoas, Samuel Jouy, Nabi...   Not Provided   \n",
       "3                                       Not Provided   Not Provided   \n",
       "4  Mayur More, Jitendra Kumar, Ranjan Raj, Alam K...          India   \n",
       "5  Kate Siegel, Zach Gilford, Hamish Linklater, H...   Not Provided   \n",
       "\n",
       "  date_added  release_year rating  n_seasons  movie_lenght  \\\n",
       "0 2021-09-25          1970  PG-13        NaN          90.0   \n",
       "1 2021-09-24          1970  TV-MA        2.0           NaN   \n",
       "2 2021-09-24          1970  TV-MA        1.0           NaN   \n",
       "3 2021-09-24          1970  TV-MA        1.0           NaN   \n",
       "4 2021-09-24          1970  TV-MA        2.0           NaN   \n",
       "5 2021-09-24          1970  TV-MA        1.0           NaN   \n",
       "\n",
       "                                           listed_in  \\\n",
       "0                                      Documentaries   \n",
       "1    International TV Shows, TV Dramas, TV Mysteries   \n",
       "2  Crime TV Shows, International TV Shows, TV Act...   \n",
       "3                             Docuseries, Reality TV   \n",
       "4  International TV Shows, Romantic TV Shows, TV ...   \n",
       "5                 TV Dramas, TV Horror, TV Mysteries   \n",
       "\n",
       "                                         description  \n",
       "0  As her father nears the end of his life, filmm...  \n",
       "1  After crossing paths at a party, a Cape Town t...  \n",
       "2  To protect his family from a powerful drug lor...  \n",
       "3  Feuds, flirtations and toilet talk go down amo...  \n",
       "4  In a city of coaching centers known to train I...  \n",
       "5  The arrival of a charismatic young priest brin...  "
      ]
     },
     "execution_count": 132,
     "metadata": {},
     "output_type": "execute_result"
    }
   ],
   "source": [
    "df.head(6)"
   ]
  },
  {
   "cell_type": "markdown",
   "id": "ab53b5c4-4bac-4389-820b-b7e7ba3cdeb9",
   "metadata": {
    "tags": []
   },
   "source": [
    "<h2 style=\"color: #327a81;\">Unique values</h2>"
   ]
  },
  {
   "cell_type": "markdown",
   "id": "a7a771c5-5b55-4375-bb10-f07832e5e40c",
   "metadata": {},
   "source": [
    "- There are a few categorical variables. Let's see how many they have and how they are called"
   ]
  },
  {
   "cell_type": "code",
   "execution_count": 212,
   "id": "12179082-e414-40ce-925e-415df77b2df2",
   "metadata": {
    "tags": []
   },
   "outputs": [
    {
     "data": {
      "text/plain": [
       "type\n",
       "Movie      6131\n",
       "TV Show    2676\n",
       "Name: count, dtype: int64"
      ]
     },
     "execution_count": 212,
     "metadata": {},
     "output_type": "execute_result"
    }
   ],
   "source": [
    "net_type = df[\"type\"].value_counts()\n",
    "net_type"
   ]
  },
  {
   "cell_type": "code",
   "execution_count": 31,
   "id": "af9926d6-70b5-4a4d-b746-1cda4b35ec8c",
   "metadata": {
    "tags": []
   },
   "outputs": [
    {
     "data": {
      "text/plain": [
       "country\n",
       "United States                             2818\n",
       "India                                      972\n",
       "Not Provided                               831\n",
       "United Kingdom                             419\n",
       "Japan                                      245\n",
       "                                          ... \n",
       "Romania, Bulgaria, Hungary                   1\n",
       "Uruguay, Guatemala                           1\n",
       "France, Senegal, Belgium                     1\n",
       "Mexico, United States, Spain, Colombia       1\n",
       "United Arab Emirates, Jordan                 1\n",
       "Name: count, Length: 749, dtype: int64"
      ]
     },
     "execution_count": 31,
     "metadata": {},
     "output_type": "execute_result"
    }
   ],
   "source": [
    "df[\"country\"].value_counts()"
   ]
  },
  {
   "cell_type": "code",
   "execution_count": 32,
   "id": "4479b5fe-bdf5-409c-b3cb-12a73b9e0a6a",
   "metadata": {
    "tags": []
   },
   "outputs": [
    {
     "data": {
      "text/plain": [
       "rating\n",
       "TV-MA           3207\n",
       "TV-14           2160\n",
       "TV-PG            863\n",
       "R                799\n",
       "PG-13            490\n",
       "TV-Y7            334\n",
       "TV-Y             307\n",
       "PG               287\n",
       "TV-G             220\n",
       "NR                80\n",
       "G                 41\n",
       "TV-Y7-FV           6\n",
       "Not Provided       4\n",
       "NC-17              3\n",
       "UR                 3\n",
       "74 min             1\n",
       "84 min             1\n",
       "66 min             1\n",
       "Name: count, dtype: int64"
      ]
     },
     "execution_count": 32,
     "metadata": {},
     "output_type": "execute_result"
    }
   ],
   "source": [
    "df[\"rating\"].value_counts()"
   ]
  },
  {
   "cell_type": "code",
   "execution_count": 34,
   "id": "620519b7-7ffa-42a8-bc7c-6b0a411f0268",
   "metadata": {
    "tags": []
   },
   "outputs": [
    {
     "data": {
      "text/plain": [
       "listed_in\n",
       "Dramas, International Movies                          362\n",
       "Documentaries                                         359\n",
       "Stand-Up Comedy                                       334\n",
       "Comedies, Dramas, International Movies                274\n",
       "Dramas, Independent Movies, International Movies      252\n",
       "                                                     ... \n",
       "Kids' TV, TV Action & Adventure, TV Dramas              1\n",
       "TV Comedies, TV Dramas, TV Horror                       1\n",
       "Children & Family Movies, Comedies, LGBTQ Movies        1\n",
       "Kids' TV, Spanish-Language TV Shows, Teen TV Shows      1\n",
       "Cult Movies, Dramas, Thrillers                          1\n",
       "Name: count, Length: 514, dtype: int64"
      ]
     },
     "execution_count": 34,
     "metadata": {},
     "output_type": "execute_result"
    }
   ],
   "source": [
    "df[\"listed_in\"].value_counts()"
   ]
  },
  {
   "cell_type": "code",
   "execution_count": 33,
   "id": "ec3d32e0-d62c-4e07-972a-f947886a1457",
   "metadata": {
    "tags": []
   },
   "outputs": [
    {
     "data": {
      "text/plain": [
       "duration\n",
       "1 Season     1793\n",
       "2 Seasons     425\n",
       "3 Seasons     199\n",
       "90 min        152\n",
       "94 min        146\n",
       "             ... \n",
       "189 min         1\n",
       "10 min          1\n",
       "3 min           1\n",
       "229 min         1\n",
       "191 min         1\n",
       "Name: count, Length: 221, dtype: int64"
      ]
     },
     "execution_count": 33,
     "metadata": {},
     "output_type": "execute_result"
    }
   ],
   "source": [
    "df[\"duration\"].value_counts()"
   ]
  },
  {
   "cell_type": "markdown",
   "id": "77e328b1-f086-4b66-ab78-8c8db8b479dd",
   "metadata": {
    "tags": []
   },
   "source": [
    "<h2 style=\"color: #327a81;\">Features Preprocessing</h2>"
   ]
  },
  {
   "cell_type": "markdown",
   "id": "17ee4a9c-2928-475b-a790-81eb0c211b28",
   "metadata": {},
   "source": [
    "<h3 style=\"color: #60b671;\">\"listed_in\" case: total number of categories and frequency production </h3>"
   ]
  },
  {
   "cell_type": "markdown",
   "id": "802db66c-7798-4e79-8a89-413c0fc26934",
   "metadata": {},
   "source": [
    "- At \"listed_in\" happens that one title can have more than one categorie, so it would be nice if we can obtain the real count per categorie"
   ]
  },
  {
   "cell_type": "code",
   "execution_count": 83,
   "id": "ed4833cc-1e5f-4eba-b5cd-8a1fb619c29c",
   "metadata": {
    "tags": []
   },
   "outputs": [],
   "source": [
    "categories = df[\"listed_in\"].str.split(\",  \")"
   ]
  },
  {
   "cell_type": "code",
   "execution_count": 84,
   "id": "b8706db6-4a2b-425b-9e6b-18eed5870c4b",
   "metadata": {
    "tags": []
   },
   "outputs": [
    {
     "data": {
      "text/plain": [
       "0                                         [Documentaries]\n",
       "1       [International TV Shows, TV Dramas, TV Mysteries]\n",
       "2       [Crime TV Shows, International TV Shows, TV Ac...\n",
       "3                                [Docuseries, Reality TV]\n",
       "4       [International TV Shows, Romantic TV Shows, TV...\n",
       "                              ...                        \n",
       "8802                     [Cult Movies, Dramas, Thrillers]\n",
       "8803             [Kids' TV, Korean TV Shows, TV Comedies]\n",
       "8804                            [Comedies, Horror Movies]\n",
       "8805                 [Children & Family Movies, Comedies]\n",
       "8806     [Dramas, International Movies, Music & Musicals]\n",
       "Name: listed_in, Length: 8807, dtype: object"
      ]
     },
     "execution_count": 84,
     "metadata": {},
     "output_type": "execute_result"
    }
   ],
   "source": [
    "categories"
   ]
  },
  {
   "cell_type": "code",
   "execution_count": 106,
   "id": "a1e1552d-4e89-41c9-81b0-2cca7f8e94bc",
   "metadata": {
    "tags": []
   },
   "outputs": [],
   "source": [
    "# Iterate over categories instance to fill a new list with all the elements\n",
    "\n",
    "all_cat = []\n",
    "\n",
    "for cat_list in categories:\n",
    "    for string in cat_list:\n",
    "        all_cat.extend(string.split(\", \"))"
   ]
  },
  {
   "cell_type": "code",
   "execution_count": 145,
   "id": "290f2021-ac29-4e1e-8aca-6783ff81b829",
   "metadata": {
    "tags": []
   },
   "outputs": [],
   "source": [
    "# Let's find the categories frequency\n",
    "\n",
    "all_cat_count = Counter(all_cat)"
   ]
  },
  {
   "cell_type": "code",
   "execution_count": 149,
   "id": "59948e7b-5b1b-4799-b44c-1c52d6b369f4",
   "metadata": {
    "tags": []
   },
   "outputs": [],
   "source": [
    "df_all_cat = pd.DataFrame(list(all_cat_count.items()), columns=[\"category\",\"count\"])"
   ]
  },
  {
   "cell_type": "code",
   "execution_count": 154,
   "id": "ae3c078d-ee92-46cc-baae-820d357d11ee",
   "metadata": {
    "tags": []
   },
   "outputs": [],
   "source": [
    "df_all_cat = df_all_cat.sort_values(by=\"count\", ascending=False)"
   ]
  },
  {
   "cell_type": "code",
   "execution_count": 155,
   "id": "eb1f8d6a-211a-46a9-a7be-709a50fc8c9a",
   "metadata": {
    "tags": []
   },
   "outputs": [
    {
     "data": {
      "text/html": [
       "<div>\n",
       "<style scoped>\n",
       "    .dataframe tbody tr th:only-of-type {\n",
       "        vertical-align: middle;\n",
       "    }\n",
       "\n",
       "    .dataframe tbody tr th {\n",
       "        vertical-align: top;\n",
       "    }\n",
       "\n",
       "    .dataframe thead th {\n",
       "        text-align: right;\n",
       "    }\n",
       "</style>\n",
       "<table border=\"1\" class=\"dataframe\">\n",
       "  <thead>\n",
       "    <tr style=\"text-align: right;\">\n",
       "      <th></th>\n",
       "      <th>category</th>\n",
       "      <th>count</th>\n",
       "    </tr>\n",
       "  </thead>\n",
       "  <tbody>\n",
       "    <tr>\n",
       "      <th>14</th>\n",
       "      <td>International Movies</td>\n",
       "      <td>2752</td>\n",
       "    </tr>\n",
       "    <tr>\n",
       "      <th>12</th>\n",
       "      <td>Dramas</td>\n",
       "      <td>2427</td>\n",
       "    </tr>\n",
       "    <tr>\n",
       "      <th>16</th>\n",
       "      <td>Comedies</td>\n",
       "      <td>1674</td>\n",
       "    </tr>\n",
       "    <tr>\n",
       "      <th>1</th>\n",
       "      <td>International TV Shows</td>\n",
       "      <td>1351</td>\n",
       "    </tr>\n",
       "    <tr>\n",
       "      <th>0</th>\n",
       "      <td>Documentaries</td>\n",
       "      <td>869</td>\n",
       "    </tr>\n",
       "    <tr>\n",
       "      <th>25</th>\n",
       "      <td>Action &amp; Adventure</td>\n",
       "      <td>859</td>\n",
       "    </tr>\n",
       "    <tr>\n",
       "      <th>2</th>\n",
       "      <td>TV Dramas</td>\n",
       "      <td>763</td>\n",
       "    </tr>\n",
       "    <tr>\n",
       "      <th>13</th>\n",
       "      <td>Independent Movies</td>\n",
       "      <td>756</td>\n",
       "    </tr>\n",
       "    <tr>\n",
       "      <th>11</th>\n",
       "      <td>Children &amp; Family Movies</td>\n",
       "      <td>641</td>\n",
       "    </tr>\n",
       "    <tr>\n",
       "      <th>19</th>\n",
       "      <td>Romantic Movies</td>\n",
       "      <td>616</td>\n",
       "    </tr>\n",
       "  </tbody>\n",
       "</table>\n",
       "</div>"
      ],
      "text/plain": [
       "                    category  count\n",
       "14      International Movies   2752\n",
       "12                    Dramas   2427\n",
       "16                  Comedies   1674\n",
       "1     International TV Shows   1351\n",
       "0              Documentaries    869\n",
       "25        Action & Adventure    859\n",
       "2                  TV Dramas    763\n",
       "13        Independent Movies    756\n",
       "11  Children & Family Movies    641\n",
       "19           Romantic Movies    616"
      ]
     },
     "execution_count": 155,
     "metadata": {},
     "output_type": "execute_result"
    }
   ],
   "source": [
    "df_all_cat.head(10)"
   ]
  },
  {
   "cell_type": "code",
   "execution_count": 141,
   "id": "5059a7a7-21f6-482a-b727-53a98b77930e",
   "metadata": {
    "tags": []
   },
   "outputs": [],
   "source": [
    "# From these categories, we will also obtain a set with the names. We will use it later\n",
    "\n",
    "all_cat_set = set(all_cat)"
   ]
  },
  {
   "cell_type": "markdown",
   "id": "3005d070-c87c-4f28-80d2-d1021f487b84",
   "metadata": {},
   "source": [
    "<h3 style=\"color: #60b671;\">\"director\" case: total number of directors and their production</h3>"
   ]
  },
  {
   "cell_type": "markdown",
   "id": "9c377f11-31ab-4173-86fe-b381b605bf97",
   "metadata": {},
   "source": [
    "- This case is similar to \"listed_in\" variable. We need to list all directors separately to know their frequency and for the recommender features"
   ]
  },
  {
   "cell_type": "code",
   "execution_count": 115,
   "id": "7396e698-c2fc-4ffa-bb7a-67ba0fa0be03",
   "metadata": {
    "tags": []
   },
   "outputs": [],
   "source": [
    "director = df[\"director\"]"
   ]
  },
  {
   "cell_type": "code",
   "execution_count": 133,
   "id": "47fb9c47-edc3-47af-a1a8-144335a77a5e",
   "metadata": {
    "tags": []
   },
   "outputs": [],
   "source": [
    "# We operate as we did it in the previous case\n",
    "\n",
    "all_directors = []\n",
    "\n",
    "for dir_list in director:\n",
    "        directors = dir_list.split(\", \")\n",
    "        all_directors.extend(directors)"
   ]
  },
  {
   "cell_type": "code",
   "execution_count": 159,
   "id": "1dc599a1-612d-4c66-9a51-1e92c1af1d31",
   "metadata": {
    "tags": []
   },
   "outputs": [],
   "source": [
    "# Frequency counts\n",
    "\n",
    "all_directors_count = Counter(all_directors)"
   ]
  },
  {
   "cell_type": "code",
   "execution_count": 164,
   "id": "1934d478-a160-4f9a-8189-2915eab77bcf",
   "metadata": {
    "tags": []
   },
   "outputs": [],
   "source": [
    "df_all_dir = pd.DataFrame(list(all_directors_count.items()), columns=[\"director\",\"count\"])"
   ]
  },
  {
   "cell_type": "code",
   "execution_count": 165,
   "id": "d8796d8f-62a0-4204-aa88-28cef9a22197",
   "metadata": {
    "tags": []
   },
   "outputs": [],
   "source": [
    "df_all_dir = df_all_dir.sort_values(by=\"count\", ascending=False)"
   ]
  },
  {
   "cell_type": "code",
   "execution_count": 181,
   "id": "600c11a5-87bc-439a-9325-66333778bc4b",
   "metadata": {
    "tags": []
   },
   "outputs": [
    {
     "data": {
      "text/html": [
       "<div>\n",
       "<style scoped>\n",
       "    .dataframe tbody tr th:only-of-type {\n",
       "        vertical-align: middle;\n",
       "    }\n",
       "\n",
       "    .dataframe tbody tr th {\n",
       "        vertical-align: top;\n",
       "    }\n",
       "\n",
       "    .dataframe thead th {\n",
       "        text-align: right;\n",
       "    }\n",
       "</style>\n",
       "<table border=\"1\" class=\"dataframe\">\n",
       "  <thead>\n",
       "    <tr style=\"text-align: right;\">\n",
       "      <th></th>\n",
       "      <th>director</th>\n",
       "      <th>count</th>\n",
       "    </tr>\n",
       "  </thead>\n",
       "  <tbody>\n",
       "    <tr>\n",
       "      <th>1</th>\n",
       "      <td>Not Provided</td>\n",
       "      <td>2634</td>\n",
       "    </tr>\n",
       "    <tr>\n",
       "      <th>282</th>\n",
       "      <td>Rajiv Chilaka</td>\n",
       "      <td>22</td>\n",
       "    </tr>\n",
       "    <tr>\n",
       "      <th>2692</th>\n",
       "      <td>Jan Suter</td>\n",
       "      <td>21</td>\n",
       "    </tr>\n",
       "    <tr>\n",
       "      <th>2691</th>\n",
       "      <td>Raúl Campos</td>\n",
       "      <td>19</td>\n",
       "    </tr>\n",
       "    <tr>\n",
       "      <th>618</th>\n",
       "      <td>Suhas Kadav</td>\n",
       "      <td>16</td>\n",
       "    </tr>\n",
       "    <tr>\n",
       "      <th>1588</th>\n",
       "      <td>Marcus Raboy</td>\n",
       "      <td>16</td>\n",
       "    </tr>\n",
       "    <tr>\n",
       "      <th>1685</th>\n",
       "      <td>Jay Karas</td>\n",
       "      <td>15</td>\n",
       "    </tr>\n",
       "    <tr>\n",
       "      <th>986</th>\n",
       "      <td>Cathy Garcia-Molina</td>\n",
       "      <td>13</td>\n",
       "    </tr>\n",
       "    <tr>\n",
       "      <th>894</th>\n",
       "      <td>Martin Scorsese</td>\n",
       "      <td>12</td>\n",
       "    </tr>\n",
       "    <tr>\n",
       "      <th>2177</th>\n",
       "      <td>Jay Chapman</td>\n",
       "      <td>12</td>\n",
       "    </tr>\n",
       "  </tbody>\n",
       "</table>\n",
       "</div>"
      ],
      "text/plain": [
       "                 director  count\n",
       "1            Not Provided   2634\n",
       "282         Rajiv Chilaka     22\n",
       "2692            Jan Suter     21\n",
       "2691          Raúl Campos     19\n",
       "618           Suhas Kadav     16\n",
       "1588         Marcus Raboy     16\n",
       "1685            Jay Karas     15\n",
       "986   Cathy Garcia-Molina     13\n",
       "894       Martin Scorsese     12\n",
       "2177          Jay Chapman     12"
      ]
     },
     "execution_count": 181,
     "metadata": {},
     "output_type": "execute_result"
    }
   ],
   "source": [
    "df_all_dir.head(10)"
   ]
  },
  {
   "cell_type": "code",
   "execution_count": 177,
   "id": "d9237099-d596-4ccc-a143-b76b05362249",
   "metadata": {
    "tags": []
   },
   "outputs": [],
   "source": [
    "# Lets get a set with all directors to future features\n",
    "\n",
    "all_dir_set = set(all_directors)"
   ]
  },
  {
   "cell_type": "markdown",
   "id": "679cb691-52cd-4244-b693-e35078ebe4c0",
   "metadata": {},
   "source": [
    "<h3 style=\"color: #60b671;\">\"country\" case: total number of countries and production </h3>"
   ]
  },
  {
   "cell_type": "markdown",
   "id": "4ffa3461-3ae4-4ef5-99b9-fcdd42364fcc",
   "metadata": {},
   "source": [
    "- As in the cases of \"director\" and \"listed_in\", we need to treat this variable to know the total of countries and their frequency production"
   ]
  },
  {
   "cell_type": "code",
   "execution_count": 167,
   "id": "3dcb86bd-9653-4633-92d1-21cc44da8e1a",
   "metadata": {
    "tags": []
   },
   "outputs": [],
   "source": [
    "countries = df[\"country\"]"
   ]
  },
  {
   "cell_type": "code",
   "execution_count": 168,
   "id": "ef667074-a8e0-4224-8465-54ca093f2872",
   "metadata": {
    "tags": []
   },
   "outputs": [
    {
     "data": {
      "text/plain": [
       "0       United States\n",
       "1        South Africa\n",
       "2        Not Provided\n",
       "3        Not Provided\n",
       "4               India\n",
       "            ...      \n",
       "8802    United States\n",
       "8803     Not Provided\n",
       "8804    United States\n",
       "8805    United States\n",
       "8806            India\n",
       "Name: country, Length: 8807, dtype: object"
      ]
     },
     "execution_count": 168,
     "metadata": {},
     "output_type": "execute_result"
    }
   ],
   "source": [
    "countries"
   ]
  },
  {
   "cell_type": "code",
   "execution_count": 170,
   "id": "7a152f61-fb17-430a-a639-9fef9c462868",
   "metadata": {
    "tags": []
   },
   "outputs": [],
   "source": [
    "all_countries = []\n",
    "\n",
    "for country_list in countries:\n",
    "    country = country_list.split(\", \")\n",
    "    all_countries.extend(country)"
   ]
  },
  {
   "cell_type": "code",
   "execution_count": 172,
   "id": "a2e39783-13f0-4cba-b2ed-8541307ad161",
   "metadata": {
    "tags": []
   },
   "outputs": [],
   "source": [
    "#Frequency counts\n",
    "\n",
    "all_countries_count = Counter(all_countries)"
   ]
  },
  {
   "cell_type": "code",
   "execution_count": 174,
   "id": "3523dcfe-7e17-47ff-860a-3e10c9ddbf0e",
   "metadata": {
    "tags": []
   },
   "outputs": [],
   "source": [
    "df_all_countr = pd.DataFrame(list(all_countries_count.items()), columns=[\"country\",\"count\"])"
   ]
  },
  {
   "cell_type": "code",
   "execution_count": 175,
   "id": "f33e58e4-0fd5-4f5b-8155-5e30416865c0",
   "metadata": {
    "tags": []
   },
   "outputs": [],
   "source": [
    "df_all_countr = df_all_countr.sort_values(by=\"count\", ascending=False)"
   ]
  },
  {
   "cell_type": "code",
   "execution_count": 183,
   "id": "7d72e89d-1dfc-44f1-8b3f-5bb6a43d7b9a",
   "metadata": {
    "tags": []
   },
   "outputs": [
    {
     "data": {
      "text/html": [
       "<div>\n",
       "<style scoped>\n",
       "    .dataframe tbody tr th:only-of-type {\n",
       "        vertical-align: middle;\n",
       "    }\n",
       "\n",
       "    .dataframe tbody tr th {\n",
       "        vertical-align: top;\n",
       "    }\n",
       "\n",
       "    .dataframe thead th {\n",
       "        text-align: right;\n",
       "    }\n",
       "</style>\n",
       "<table border=\"1\" class=\"dataframe\">\n",
       "  <thead>\n",
       "    <tr style=\"text-align: right;\">\n",
       "      <th></th>\n",
       "      <th>country</th>\n",
       "      <th>count</th>\n",
       "    </tr>\n",
       "  </thead>\n",
       "  <tbody>\n",
       "    <tr>\n",
       "      <th>0</th>\n",
       "      <td>United States</td>\n",
       "      <td>3689</td>\n",
       "    </tr>\n",
       "    <tr>\n",
       "      <th>3</th>\n",
       "      <td>India</td>\n",
       "      <td>1046</td>\n",
       "    </tr>\n",
       "    <tr>\n",
       "      <th>2</th>\n",
       "      <td>Not Provided</td>\n",
       "      <td>831</td>\n",
       "    </tr>\n",
       "    <tr>\n",
       "      <th>6</th>\n",
       "      <td>United Kingdom</td>\n",
       "      <td>804</td>\n",
       "    </tr>\n",
       "    <tr>\n",
       "      <th>16</th>\n",
       "      <td>Canada</td>\n",
       "      <td>445</td>\n",
       "    </tr>\n",
       "    <tr>\n",
       "      <th>13</th>\n",
       "      <td>France</td>\n",
       "      <td>393</td>\n",
       "    </tr>\n",
       "    <tr>\n",
       "      <th>17</th>\n",
       "      <td>Japan</td>\n",
       "      <td>318</td>\n",
       "    </tr>\n",
       "    <tr>\n",
       "      <th>19</th>\n",
       "      <td>Spain</td>\n",
       "      <td>232</td>\n",
       "    </tr>\n",
       "    <tr>\n",
       "      <th>21</th>\n",
       "      <td>South Korea</td>\n",
       "      <td>231</td>\n",
       "    </tr>\n",
       "    <tr>\n",
       "      <th>7</th>\n",
       "      <td>Germany</td>\n",
       "      <td>226</td>\n",
       "    </tr>\n",
       "  </tbody>\n",
       "</table>\n",
       "</div>"
      ],
      "text/plain": [
       "           country  count\n",
       "0    United States   3689\n",
       "3            India   1046\n",
       "2     Not Provided    831\n",
       "6   United Kingdom    804\n",
       "16          Canada    445\n",
       "13          France    393\n",
       "17           Japan    318\n",
       "19           Spain    232\n",
       "21     South Korea    231\n",
       "7          Germany    226"
      ]
     },
     "execution_count": 183,
     "metadata": {},
     "output_type": "execute_result"
    }
   ],
   "source": [
    "df_all_countr.head(10)"
   ]
  },
  {
   "cell_type": "code",
   "execution_count": 185,
   "id": "7d85552d-5fab-452e-82f4-b71c672802fe",
   "metadata": {
    "tags": []
   },
   "outputs": [],
   "source": [
    "# As we did it before, we save a set with the countries for future features\n",
    "\n",
    "all_countr_set = set(all_countries)"
   ]
  },
  {
   "cell_type": "markdown",
   "id": "d9358260-ab28-4032-89ab-a28bdbf2610f",
   "metadata": {
    "tags": []
   },
   "source": [
    "<h3 style=\"color: #60b671;\">\"cast\" case: obtaining the total actors list and frequency </h3>"
   ]
  },
  {
   "cell_type": "code",
   "execution_count": 195,
   "id": "3dc92e15-137c-43f5-a003-241c4073501d",
   "metadata": {
    "tags": []
   },
   "outputs": [],
   "source": [
    "cast = df[\"cast\"]"
   ]
  },
  {
   "cell_type": "code",
   "execution_count": 197,
   "id": "74fa1341-dabf-4f6f-802f-c917a48f9ec9",
   "metadata": {
    "tags": []
   },
   "outputs": [],
   "source": [
    "all_cast = []\n",
    "\n",
    "for cast_list in cast:\n",
    "    actor = cast_list.split(\", \")\n",
    "    all_cast.extend(actor)"
   ]
  },
  {
   "cell_type": "code",
   "execution_count": 205,
   "id": "37d6d69e-362a-4914-bbb0-3b3574b32c7f",
   "metadata": {
    "tags": []
   },
   "outputs": [],
   "source": [
    "# Frequency count\n",
    "\n",
    "all_cast_count = Counter(all_cast)"
   ]
  },
  {
   "cell_type": "code",
   "execution_count": 206,
   "id": "5ce285b3-4aac-428f-8c32-dabc41af5a60",
   "metadata": {
    "tags": []
   },
   "outputs": [],
   "source": [
    "df_cast_count = pd.DataFrame(list(all_cast_count.items()), columns=[\"cast\",\"count\"])"
   ]
  },
  {
   "cell_type": "code",
   "execution_count": 207,
   "id": "8153aeb5-7399-4a7a-981a-d7a8678ff5a6",
   "metadata": {
    "tags": []
   },
   "outputs": [],
   "source": [
    "df_cast_count = df_cast_count.sort_values(by=\"count\", ascending=False)"
   ]
  },
  {
   "cell_type": "code",
   "execution_count": 209,
   "id": "28e15146-58d7-47ba-813c-d471b08e2160",
   "metadata": {
    "tags": []
   },
   "outputs": [
    {
     "data": {
      "text/html": [
       "<div>\n",
       "<style scoped>\n",
       "    .dataframe tbody tr th:only-of-type {\n",
       "        vertical-align: middle;\n",
       "    }\n",
       "\n",
       "    .dataframe tbody tr th {\n",
       "        vertical-align: top;\n",
       "    }\n",
       "\n",
       "    .dataframe thead th {\n",
       "        text-align: right;\n",
       "    }\n",
       "</style>\n",
       "<table border=\"1\" class=\"dataframe\">\n",
       "  <thead>\n",
       "    <tr style=\"text-align: right;\">\n",
       "      <th></th>\n",
       "      <th>cast</th>\n",
       "      <th>count</th>\n",
       "    </tr>\n",
       "  </thead>\n",
       "  <tbody>\n",
       "    <tr>\n",
       "      <th>0</th>\n",
       "      <td>Not Provided</td>\n",
       "      <td>825</td>\n",
       "    </tr>\n",
       "    <tr>\n",
       "      <th>1434</th>\n",
       "      <td>Anupam Kher</td>\n",
       "      <td>43</td>\n",
       "    </tr>\n",
       "    <tr>\n",
       "      <th>783</th>\n",
       "      <td>Shah Rukh Khan</td>\n",
       "      <td>35</td>\n",
       "    </tr>\n",
       "    <tr>\n",
       "      <th>304</th>\n",
       "      <td>Julie Tejwani</td>\n",
       "      <td>33</td>\n",
       "    </tr>\n",
       "    <tr>\n",
       "      <th>1635</th>\n",
       "      <td>Naseeruddin Shah</td>\n",
       "      <td>32</td>\n",
       "    </tr>\n",
       "    <tr>\n",
       "      <th>4943</th>\n",
       "      <td>Takahiro Sakurai</td>\n",
       "      <td>32</td>\n",
       "    </tr>\n",
       "    <tr>\n",
       "      <th>305</th>\n",
       "      <td>Rupa Bhimani</td>\n",
       "      <td>31</td>\n",
       "    </tr>\n",
       "    <tr>\n",
       "      <th>1559</th>\n",
       "      <td>Akshay Kumar</td>\n",
       "      <td>30</td>\n",
       "    </tr>\n",
       "    <tr>\n",
       "      <th>11644</th>\n",
       "      <td>Om Puri</td>\n",
       "      <td>30</td>\n",
       "    </tr>\n",
       "    <tr>\n",
       "      <th>4469</th>\n",
       "      <td>Yuki Kaji</td>\n",
       "      <td>29</td>\n",
       "    </tr>\n",
       "  </tbody>\n",
       "</table>\n",
       "</div>"
      ],
      "text/plain": [
       "                   cast  count\n",
       "0          Not Provided    825\n",
       "1434        Anupam Kher     43\n",
       "783      Shah Rukh Khan     35\n",
       "304       Julie Tejwani     33\n",
       "1635   Naseeruddin Shah     32\n",
       "4943   Takahiro Sakurai     32\n",
       "305        Rupa Bhimani     31\n",
       "1559       Akshay Kumar     30\n",
       "11644           Om Puri     30\n",
       "4469          Yuki Kaji     29"
      ]
     },
     "execution_count": 209,
     "metadata": {},
     "output_type": "execute_result"
    }
   ],
   "source": [
    "df_cast_count.head(10)"
   ]
  },
  {
   "cell_type": "code",
   "execution_count": 210,
   "id": "dbe82bf6-6539-422a-abbe-a1dbe0bf5d33",
   "metadata": {
    "tags": []
   },
   "outputs": [],
   "source": [
    "# Save a set with all name cast for further features\n",
    "\n",
    "all_cast_set = set(all_cast)"
   ]
  },
  {
   "cell_type": "markdown",
   "id": "2698b5f2-4225-438b-be41-21b0af9692b2",
   "metadata": {},
   "source": [
    "<h3 style=\"color: #60b671;\">\"duration\" case: from categorical to numerical values </h3>"
   ]
  },
  {
   "cell_type": "markdown",
   "id": "647da656-b4e6-45d8-8bb2-09e0b24ef880",
   "metadata": {},
   "source": [
    "- It would be better if we treat this variable as numerical for further explorations. But for that, we need to split the values that are lenght minutes from the values named seasons"
   ]
  },
  {
   "cell_type": "code",
   "execution_count": 37,
   "id": "b0f680e9-56ea-4d55-88be-d12b856993e7",
   "metadata": {
    "tags": []
   },
   "outputs": [],
   "source": [
    "df_shows = df[df[\"type\"] == \"TV Show\"]"
   ]
  },
  {
   "cell_type": "code",
   "execution_count": 44,
   "id": "50464b3f-8453-4ee5-bdcf-8c38b99fb450",
   "metadata": {
    "tags": []
   },
   "outputs": [
    {
     "data": {
      "text/plain": [
       "array(['2 Seasons', '1 Season', '9 Seasons', '4 Seasons', '5 Seasons',\n",
       "       '3 Seasons', '6 Seasons', '7 Seasons', '10 Seasons', '8 Seasons',\n",
       "       '17 Seasons', '13 Seasons', '15 Seasons', '12 Seasons',\n",
       "       '11 Seasons'], dtype=object)"
      ]
     },
     "execution_count": 44,
     "metadata": {},
     "output_type": "execute_result"
    }
   ],
   "source": [
    "df_shows[\"duration\"].unique()"
   ]
  },
  {
   "cell_type": "code",
   "execution_count": 45,
   "id": "fa09bde4-4691-406a-9d7f-60598420f938",
   "metadata": {
    "tags": []
   },
   "outputs": [],
   "source": [
    "df_movies = df[df[\"type\"] == \"Movie\"]"
   ]
  },
  {
   "cell_type": "code",
   "execution_count": 46,
   "id": "553b7a61-5ec4-4f36-8158-88db4c119beb",
   "metadata": {
    "tags": []
   },
   "outputs": [
    {
     "data": {
      "text/plain": [
       "array(['90 min', '91 min', '125 min', '104 min', '127 min', '67 min',\n",
       "       '94 min', '161 min', '61 min', '166 min', '147 min', '103 min',\n",
       "       '97 min', '106 min', '111 min', '110 min', '105 min', '96 min',\n",
       "       '124 min', '116 min', '98 min', '23 min', '115 min', '122 min',\n",
       "       '99 min', '88 min', '100 min', '102 min', '93 min', '95 min',\n",
       "       '85 min', '83 min', '113 min', '13 min', '182 min', '48 min',\n",
       "       '145 min', '87 min', '92 min', '80 min', '117 min', '128 min',\n",
       "       '119 min', '143 min', '114 min', '118 min', '108 min', '63 min',\n",
       "       '121 min', '142 min', '154 min', '120 min', '82 min', '109 min',\n",
       "       '101 min', '86 min', '229 min', '76 min', '89 min', '156 min',\n",
       "       '112 min', '107 min', '129 min', '135 min', '136 min', '165 min',\n",
       "       '150 min', '133 min', '70 min', '84 min', '140 min', '78 min',\n",
       "       '64 min', '59 min', '139 min', '69 min', '148 min', '189 min',\n",
       "       '141 min', '130 min', '138 min', '81 min', '132 min', '123 min',\n",
       "       '65 min', '68 min', '66 min', '62 min', '74 min', '131 min',\n",
       "       '39 min', '46 min', '38 min', '126 min', '155 min', '159 min',\n",
       "       '137 min', '12 min', '273 min', '36 min', '34 min', '77 min',\n",
       "       '60 min', '49 min', '58 min', '72 min', '204 min', '212 min',\n",
       "       '25 min', '73 min', '29 min', '47 min', '32 min', '35 min',\n",
       "       '71 min', '149 min', '33 min', '15 min', '54 min', '224 min',\n",
       "       '162 min', '37 min', '75 min', '79 min', '55 min', '158 min',\n",
       "       '164 min', '173 min', '181 min', '185 min', '21 min', '24 min',\n",
       "       '51 min', '151 min', '42 min', '22 min', '134 min', '177 min',\n",
       "       '52 min', '14 min', '53 min', '8 min', '57 min', '28 min',\n",
       "       '50 min', '9 min', '26 min', '45 min', '171 min', '27 min',\n",
       "       '44 min', '146 min', '20 min', '157 min', '17 min', '203 min',\n",
       "       '41 min', '30 min', '194 min', '233 min', '237 min', '230 min',\n",
       "       '195 min', '253 min', '152 min', '190 min', '160 min', '208 min',\n",
       "       '180 min', '144 min', '5 min', '174 min', '170 min', '192 min',\n",
       "       '209 min', '187 min', '172 min', '16 min', '186 min', '11 min',\n",
       "       '193 min', '176 min', '56 min', '169 min', '40 min', '10 min',\n",
       "       '3 min', '168 min', '312 min', '153 min', '214 min', '31 min',\n",
       "       '163 min', '19 min', 'Not Provided', '179 min', '43 min',\n",
       "       '200 min', '196 min', '167 min', '178 min', '228 min', '18 min',\n",
       "       '205 min', '201 min', '191 min'], dtype=object)"
      ]
     },
     "execution_count": 46,
     "metadata": {},
     "output_type": "execute_result"
    }
   ],
   "source": [
    "df_movies[\"duration\"].unique()"
   ]
  },
  {
   "cell_type": "code",
   "execution_count": 67,
   "id": "34f6b825-f928-4b84-bf67-c3fbc11f9b29",
   "metadata": {
    "tags": []
   },
   "outputs": [],
   "source": [
    "# We can see that shows are categorized by season and movies by lenght. So let's split them into two new variables, numerical both, for a better EDA\n",
    "\n",
    "season_array = []\n",
    "\n",
    "for i in df[\"duration\"]:\n",
    "    num, type_ = i.split()\n",
    "    if type_ == \"Season\" or type_ == \"Seasons\":\n",
    "        season_array.append(num)\n",
    "    else:\n",
    "        season_array.append(\"Not a Show\")"
   ]
  },
  {
   "cell_type": "code",
   "execution_count": 55,
   "id": "b9575e11-7419-4bd3-a3d1-21f50abeb52b",
   "metadata": {
    "tags": []
   },
   "outputs": [
    {
     "data": {
      "text/plain": [
       "9"
      ]
     },
     "execution_count": 55,
     "metadata": {},
     "output_type": "execute_result"
    }
   ],
   "source": [
    "df.columns.get_loc(\"duration\")"
   ]
  },
  {
   "cell_type": "code",
   "execution_count": 56,
   "id": "ac6538a0-3db1-4c20-9866-6e1e738d8682",
   "metadata": {
    "tags": []
   },
   "outputs": [],
   "source": [
    "df.insert(loc=10, column=\"n_seasons\", value=season_array)"
   ]
  },
  {
   "cell_type": "code",
   "execution_count": 60,
   "id": "63b58ca2-c9c8-4f68-a8a7-b60abb806616",
   "metadata": {
    "tags": []
   },
   "outputs": [],
   "source": [
    "lenght_array = []\n",
    "\n",
    "for i in df[\"duration\"]:\n",
    "    num, type_ = i.split()\n",
    "    if type_ == \"min\":\n",
    "        lenght_array.append(num)\n",
    "    else:\n",
    "        lenght_array.append(\"Not a Movie\")"
   ]
  },
  {
   "cell_type": "code",
   "execution_count": 64,
   "id": "b3fefbd2-7bf1-4518-8f27-a2d863efbbf4",
   "metadata": {
    "tags": []
   },
   "outputs": [],
   "source": [
    "df.insert(loc=11, column=\"movie_lenght\", value=lenght_array)"
   ]
  },
  {
   "cell_type": "code",
   "execution_count": 66,
   "id": "58d84f24-8c88-4429-afbc-b04b4c0163c7",
   "metadata": {
    "tags": []
   },
   "outputs": [
    {
     "data": {
      "text/html": [
       "<div>\n",
       "<style scoped>\n",
       "    .dataframe tbody tr th:only-of-type {\n",
       "        vertical-align: middle;\n",
       "    }\n",
       "\n",
       "    .dataframe tbody tr th {\n",
       "        vertical-align: top;\n",
       "    }\n",
       "\n",
       "    .dataframe thead th {\n",
       "        text-align: right;\n",
       "    }\n",
       "</style>\n",
       "<table border=\"1\" class=\"dataframe\">\n",
       "  <thead>\n",
       "    <tr style=\"text-align: right;\">\n",
       "      <th></th>\n",
       "      <th>show_id</th>\n",
       "      <th>type</th>\n",
       "      <th>title</th>\n",
       "      <th>director</th>\n",
       "      <th>cast</th>\n",
       "      <th>country</th>\n",
       "      <th>date_added</th>\n",
       "      <th>release_year</th>\n",
       "      <th>rating</th>\n",
       "      <th>duration</th>\n",
       "      <th>n_seasons</th>\n",
       "      <th>movie_lenght</th>\n",
       "      <th>listed_in</th>\n",
       "      <th>description</th>\n",
       "    </tr>\n",
       "  </thead>\n",
       "  <tbody>\n",
       "    <tr>\n",
       "      <th>937</th>\n",
       "      <td>s938</td>\n",
       "      <td>Movie</td>\n",
       "      <td>Motu Patlu in Dragon's World</td>\n",
       "      <td>Suhas Kadav</td>\n",
       "      <td>Saurav Chakrabarty</td>\n",
       "      <td>Not Provided</td>\n",
       "      <td>2021-05-01</td>\n",
       "      <td>1970</td>\n",
       "      <td>TV-Y7</td>\n",
       "      <td>78 min</td>\n",
       "      <td>Not a Show</td>\n",
       "      <td>78</td>\n",
       "      <td>Children &amp; Family Movies, Comedies</td>\n",
       "      <td>A trip to a magical land of dragons turns acti...</td>\n",
       "    </tr>\n",
       "    <tr>\n",
       "      <th>3036</th>\n",
       "      <td>s3037</td>\n",
       "      <td>TV Show</td>\n",
       "      <td>Jamtara - Sabka Number Ayega</td>\n",
       "      <td>Soumendra Padhi</td>\n",
       "      <td>Amit Sial, Dibyendu Bhattacharya, Aksha Pardha...</td>\n",
       "      <td>India</td>\n",
       "      <td>2020-01-10</td>\n",
       "      <td>1970</td>\n",
       "      <td>TV-MA</td>\n",
       "      <td>1 Season</td>\n",
       "      <td>1</td>\n",
       "      <td>Not a Movie</td>\n",
       "      <td>Crime TV Shows, International TV Shows, TV Dramas</td>\n",
       "      <td>A group of small-town young men run a lucrativ...</td>\n",
       "    </tr>\n",
       "    <tr>\n",
       "      <th>6462</th>\n",
       "      <td>s6463</td>\n",
       "      <td>Movie</td>\n",
       "      <td>Chhota Bheem Ka Romani Adventure</td>\n",
       "      <td>Asit Mohapatra, Shyamal Chaulia</td>\n",
       "      <td>Julie Tejwani, SABINA MALIK, Jigna Bharadhwaj,...</td>\n",
       "      <td>Not Provided</td>\n",
       "      <td>2019-05-10</td>\n",
       "      <td>1970</td>\n",
       "      <td>TV-Y7</td>\n",
       "      <td>62 min</td>\n",
       "      <td>Not a Show</td>\n",
       "      <td>62</td>\n",
       "      <td>Children &amp; Family Movies</td>\n",
       "      <td>Bheem and King Indraverma travel to Rome for a...</td>\n",
       "    </tr>\n",
       "    <tr>\n",
       "      <th>6584</th>\n",
       "      <td>s6585</td>\n",
       "      <td>Movie</td>\n",
       "      <td>Death House</td>\n",
       "      <td>Harrison Smith</td>\n",
       "      <td>Cody Longo, Cortney Palm, Adrienne Barbeau, Mi...</td>\n",
       "      <td>United States</td>\n",
       "      <td>2019-05-05</td>\n",
       "      <td>1970</td>\n",
       "      <td>R</td>\n",
       "      <td>88 min</td>\n",
       "      <td>Not a Show</td>\n",
       "      <td>88</td>\n",
       "      <td>Horror Movies</td>\n",
       "      <td>Two federal agents battle through an army of r...</td>\n",
       "    </tr>\n",
       "    <tr>\n",
       "      <th>8496</th>\n",
       "      <td>s8497</td>\n",
       "      <td>Movie</td>\n",
       "      <td>The Salvation</td>\n",
       "      <td>Kristian Levring</td>\n",
       "      <td>Mads Mikkelsen, Eva Green, Jeffrey Dean Morgan...</td>\n",
       "      <td>Denmark, United Kingdom, South Africa, Sweden,...</td>\n",
       "      <td>2017-03-02</td>\n",
       "      <td>1970</td>\n",
       "      <td>R</td>\n",
       "      <td>92 min</td>\n",
       "      <td>Not a Show</td>\n",
       "      <td>92</td>\n",
       "      <td>Dramas, Independent Movies, International Movies</td>\n",
       "      <td>In the Old West, a Danish homesteader avenges ...</td>\n",
       "    </tr>\n",
       "  </tbody>\n",
       "</table>\n",
       "</div>"
      ],
      "text/plain": [
       "     show_id     type                             title  \\\n",
       "937     s938    Movie      Motu Patlu in Dragon's World   \n",
       "3036   s3037  TV Show      Jamtara - Sabka Number Ayega   \n",
       "6462   s6463    Movie  Chhota Bheem Ka Romani Adventure   \n",
       "6584   s6585    Movie                       Death House   \n",
       "8496   s8497    Movie                     The Salvation   \n",
       "\n",
       "                             director  \\\n",
       "937                       Suhas Kadav   \n",
       "3036                  Soumendra Padhi   \n",
       "6462  Asit Mohapatra, Shyamal Chaulia   \n",
       "6584                   Harrison Smith   \n",
       "8496                 Kristian Levring   \n",
       "\n",
       "                                                   cast  \\\n",
       "937                                  Saurav Chakrabarty   \n",
       "3036  Amit Sial, Dibyendu Bhattacharya, Aksha Pardha...   \n",
       "6462  Julie Tejwani, SABINA MALIK, Jigna Bharadhwaj,...   \n",
       "6584  Cody Longo, Cortney Palm, Adrienne Barbeau, Mi...   \n",
       "8496  Mads Mikkelsen, Eva Green, Jeffrey Dean Morgan...   \n",
       "\n",
       "                                                country date_added  \\\n",
       "937                                        Not Provided 2021-05-01   \n",
       "3036                                              India 2020-01-10   \n",
       "6462                                       Not Provided 2019-05-10   \n",
       "6584                                      United States 2019-05-05   \n",
       "8496  Denmark, United Kingdom, South Africa, Sweden,... 2017-03-02   \n",
       "\n",
       "      release_year rating  duration   n_seasons movie_lenght  \\\n",
       "937           1970  TV-Y7    78 min  Not a Show           78   \n",
       "3036          1970  TV-MA  1 Season           1  Not a Movie   \n",
       "6462          1970  TV-Y7    62 min  Not a Show           62   \n",
       "6584          1970      R    88 min  Not a Show           88   \n",
       "8496          1970      R    92 min  Not a Show           92   \n",
       "\n",
       "                                              listed_in  \\\n",
       "937                  Children & Family Movies, Comedies   \n",
       "3036  Crime TV Shows, International TV Shows, TV Dramas   \n",
       "6462                           Children & Family Movies   \n",
       "6584                                      Horror Movies   \n",
       "8496   Dramas, Independent Movies, International Movies   \n",
       "\n",
       "                                            description  \n",
       "937   A trip to a magical land of dragons turns acti...  \n",
       "3036  A group of small-town young men run a lucrativ...  \n",
       "6462  Bheem and King Indraverma travel to Rome for a...  \n",
       "6584  Two federal agents battle through an army of r...  \n",
       "8496  In the Old West, a Danish homesteader avenges ...  "
      ]
     },
     "execution_count": 66,
     "metadata": {},
     "output_type": "execute_result"
    }
   ],
   "source": [
    "df.sample(5)"
   ]
  },
  {
   "cell_type": "code",
   "execution_count": 68,
   "id": "9e6edfc1-c2ac-4113-aaed-cb4044a40f47",
   "metadata": {
    "tags": []
   },
   "outputs": [],
   "source": [
    "# Now, we transform \"n_season\" and \"movie_lenght\" to numeric values\n",
    "\n",
    "df[\"n_seasons\"] = pd.to_numeric(df[\"n_seasons\"], errors=\"coerce\")\n",
    "df[\"movie_lenght\"] = pd.to_numeric(df[\"movie_lenght\"], errors=\"coerce\")"
   ]
  },
  {
   "cell_type": "code",
   "execution_count": 70,
   "id": "551fd1e0-7d1f-4e8f-8b52-096ae25bccc1",
   "metadata": {
    "tags": []
   },
   "outputs": [],
   "source": [
    "#Let's drop out the variable \"duration\", now is kind of useless\n",
    "\n",
    "df.drop(columns=\"duration\", inplace=True)"
   ]
  },
  {
   "cell_type": "code",
   "execution_count": 72,
   "id": "9ae6a858-670d-4a53-a446-aa45f4db5666",
   "metadata": {
    "tags": []
   },
   "outputs": [
    {
     "data": {
      "text/html": [
       "<div>\n",
       "<style scoped>\n",
       "    .dataframe tbody tr th:only-of-type {\n",
       "        vertical-align: middle;\n",
       "    }\n",
       "\n",
       "    .dataframe tbody tr th {\n",
       "        vertical-align: top;\n",
       "    }\n",
       "\n",
       "    .dataframe thead th {\n",
       "        text-align: right;\n",
       "    }\n",
       "</style>\n",
       "<table border=\"1\" class=\"dataframe\">\n",
       "  <thead>\n",
       "    <tr style=\"text-align: right;\">\n",
       "      <th></th>\n",
       "      <th>show_id</th>\n",
       "      <th>type</th>\n",
       "      <th>title</th>\n",
       "      <th>director</th>\n",
       "      <th>cast</th>\n",
       "      <th>country</th>\n",
       "      <th>date_added</th>\n",
       "      <th>release_year</th>\n",
       "      <th>rating</th>\n",
       "      <th>n_seasons</th>\n",
       "      <th>movie_lenght</th>\n",
       "      <th>listed_in</th>\n",
       "      <th>description</th>\n",
       "    </tr>\n",
       "  </thead>\n",
       "  <tbody>\n",
       "    <tr>\n",
       "      <th>5341</th>\n",
       "      <td>s5342</td>\n",
       "      <td>Movie</td>\n",
       "      <td>Enter the Warriors Gate</td>\n",
       "      <td>Matthias Hoene</td>\n",
       "      <td>Jeff Daniels, Jack O'Connell, Michelle Dockery...</td>\n",
       "      <td>France, Canada, China, Cambodia</td>\n",
       "      <td>2017-08-05</td>\n",
       "      <td>1970</td>\n",
       "      <td>PG-13</td>\n",
       "      <td>NaN</td>\n",
       "      <td>105.0</td>\n",
       "      <td>Action &amp; Adventure, International Movies, Sci-...</td>\n",
       "      <td>An avid gamer is magically transported to anci...</td>\n",
       "    </tr>\n",
       "    <tr>\n",
       "      <th>2393</th>\n",
       "      <td>s2394</td>\n",
       "      <td>Movie</td>\n",
       "      <td>Da 5 Bloods</td>\n",
       "      <td>Spike Lee</td>\n",
       "      <td>Delroy Lindo, Jonathan Majors, Clarke Peters, ...</td>\n",
       "      <td>United States</td>\n",
       "      <td>2020-06-12</td>\n",
       "      <td>1970</td>\n",
       "      <td>R</td>\n",
       "      <td>NaN</td>\n",
       "      <td>156.0</td>\n",
       "      <td>Action &amp; Adventure, Dramas</td>\n",
       "      <td>Four African American veterans return to Vietn...</td>\n",
       "    </tr>\n",
       "    <tr>\n",
       "      <th>7425</th>\n",
       "      <td>s7426</td>\n",
       "      <td>Movie</td>\n",
       "      <td>May You Prosper</td>\n",
       "      <td>Hassan Hegazy, Shady Ali</td>\n",
       "      <td>Ahmed Rizk, Bosy, Bayoumi Fouad, Mahmoud Ellit...</td>\n",
       "      <td>Egypt</td>\n",
       "      <td>2019-07-20</td>\n",
       "      <td>1970</td>\n",
       "      <td>TV-14</td>\n",
       "      <td>NaN</td>\n",
       "      <td>93.0</td>\n",
       "      <td>Comedies, International Movies, Music &amp; Musicals</td>\n",
       "      <td>A man's inability to conquer his personal inse...</td>\n",
       "    </tr>\n",
       "    <tr>\n",
       "      <th>3439</th>\n",
       "      <td>s3440</td>\n",
       "      <td>Movie</td>\n",
       "      <td>Home Is Where the Killer Is</td>\n",
       "      <td>Kaila York</td>\n",
       "      <td>Stacy Haiduk, Kelly Kruger, Christopher Sean, ...</td>\n",
       "      <td>United States</td>\n",
       "      <td>2019-10-09</td>\n",
       "      <td>1970</td>\n",
       "      <td>TV-14</td>\n",
       "      <td>NaN</td>\n",
       "      <td>87.0</td>\n",
       "      <td>Dramas, Thrillers</td>\n",
       "      <td>Recovering from cancer, a young woman thinks s...</td>\n",
       "    </tr>\n",
       "    <tr>\n",
       "      <th>5952</th>\n",
       "      <td>s5953</td>\n",
       "      <td>Movie</td>\n",
       "      <td>Victim of Beauty</td>\n",
       "      <td>Roger Young</td>\n",
       "      <td>William Devane, Jeri Ryan, Michele Abrams, Nic...</td>\n",
       "      <td>United States</td>\n",
       "      <td>2011-10-01</td>\n",
       "      <td>1970</td>\n",
       "      <td>TV-14</td>\n",
       "      <td>NaN</td>\n",
       "      <td>93.0</td>\n",
       "      <td>Dramas, Thrillers</td>\n",
       "      <td>A beauty pageant winner is stalked by a serial...</td>\n",
       "    </tr>\n",
       "  </tbody>\n",
       "</table>\n",
       "</div>"
      ],
      "text/plain": [
       "     show_id   type                        title                  director  \\\n",
       "5341   s5342  Movie      Enter the Warriors Gate            Matthias Hoene   \n",
       "2393   s2394  Movie                  Da 5 Bloods                 Spike Lee   \n",
       "7425   s7426  Movie              May You Prosper  Hassan Hegazy, Shady Ali   \n",
       "3439   s3440  Movie  Home Is Where the Killer Is                Kaila York   \n",
       "5952   s5953  Movie             Victim of Beauty               Roger Young   \n",
       "\n",
       "                                                   cast  \\\n",
       "5341  Jeff Daniels, Jack O'Connell, Michelle Dockery...   \n",
       "2393  Delroy Lindo, Jonathan Majors, Clarke Peters, ...   \n",
       "7425  Ahmed Rizk, Bosy, Bayoumi Fouad, Mahmoud Ellit...   \n",
       "3439  Stacy Haiduk, Kelly Kruger, Christopher Sean, ...   \n",
       "5952  William Devane, Jeri Ryan, Michele Abrams, Nic...   \n",
       "\n",
       "                              country date_added  release_year rating  \\\n",
       "5341  France, Canada, China, Cambodia 2017-08-05          1970  PG-13   \n",
       "2393                    United States 2020-06-12          1970      R   \n",
       "7425                            Egypt 2019-07-20          1970  TV-14   \n",
       "3439                    United States 2019-10-09          1970  TV-14   \n",
       "5952                    United States 2011-10-01          1970  TV-14   \n",
       "\n",
       "      n_seasons  movie_lenght  \\\n",
       "5341        NaN         105.0   \n",
       "2393        NaN         156.0   \n",
       "7425        NaN          93.0   \n",
       "3439        NaN          87.0   \n",
       "5952        NaN          93.0   \n",
       "\n",
       "                                              listed_in  \\\n",
       "5341  Action & Adventure, International Movies, Sci-...   \n",
       "2393                         Action & Adventure, Dramas   \n",
       "7425   Comedies, International Movies, Music & Musicals   \n",
       "3439                                  Dramas, Thrillers   \n",
       "5952                                  Dramas, Thrillers   \n",
       "\n",
       "                                            description  \n",
       "5341  An avid gamer is magically transported to anci...  \n",
       "2393  Four African American veterans return to Vietn...  \n",
       "7425  A man's inability to conquer his personal inse...  \n",
       "3439  Recovering from cancer, a young woman thinks s...  \n",
       "5952  A beauty pageant winner is stalked by a serial...  "
      ]
     },
     "execution_count": 72,
     "metadata": {},
     "output_type": "execute_result"
    }
   ],
   "source": [
    "df.sample(5)"
   ]
  },
  {
   "cell_type": "markdown",
   "id": "4905552e-05cc-4d1b-a2d8-c517816e6d8a",
   "metadata": {},
   "source": [
    "<h1 style=\"color: #492c68;\">02 | EDA</h1>"
   ]
  },
  {
   "cell_type": "markdown",
   "id": "49d9e106-adcc-48e0-b175-b0e5edb0665a",
   "metadata": {
    "tags": []
   },
   "source": [
    "<h2 style=\"color: #327a81;\">Movies & TV Shows</h2>"
   ]
  },
  {
   "cell_type": "markdown",
   "id": "c385b13b-0d7f-4b6b-9fc1-3f0cf87ca52f",
   "metadata": {},
   "source": [
    "<h3 style=\"color: #60b671;\">How many movies and shows are in catalogue</h3>"
   ]
  },
  {
   "cell_type": "code",
   "execution_count": 216,
   "id": "691b5a79-9a7f-4786-af21-6ce82d8ac103",
   "metadata": {
    "tags": []
   },
   "outputs": [
    {
     "data": {
      "text/html": [
       "<div>\n",
       "<style scoped>\n",
       "    .dataframe tbody tr th:only-of-type {\n",
       "        vertical-align: middle;\n",
       "    }\n",
       "\n",
       "    .dataframe tbody tr th {\n",
       "        vertical-align: top;\n",
       "    }\n",
       "\n",
       "    .dataframe thead th {\n",
       "        text-align: right;\n",
       "    }\n",
       "</style>\n",
       "<table border=\"1\" class=\"dataframe\">\n",
       "  <thead>\n",
       "    <tr style=\"text-align: right;\">\n",
       "      <th></th>\n",
       "      <th>type</th>\n",
       "      <th>count</th>\n",
       "    </tr>\n",
       "  </thead>\n",
       "  <tbody>\n",
       "    <tr>\n",
       "      <th>0</th>\n",
       "      <td>Movie</td>\n",
       "      <td>6131</td>\n",
       "    </tr>\n",
       "    <tr>\n",
       "      <th>1</th>\n",
       "      <td>TV Show</td>\n",
       "      <td>2676</td>\n",
       "    </tr>\n",
       "  </tbody>\n",
       "</table>\n",
       "</div>"
      ],
      "text/plain": [
       "      type  count\n",
       "0    Movie   6131\n",
       "1  TV Show   2676"
      ]
     },
     "execution_count": 216,
     "metadata": {},
     "output_type": "execute_result"
    }
   ],
   "source": [
    "net_type = net_type.reset_index()\n",
    "net_type"
   ]
  },
  {
   "cell_type": "code",
   "execution_count": 228,
   "id": "ede6e569-df6a-440d-864f-97ab9d6247ab",
   "metadata": {
    "tags": []
   },
   "outputs": [
    {
     "data": {
      "image/png": "[encoded data removed]",
      "text/plain": [
       "<Figure size 800x400 with 1 Axes>"
      ]
     },
     "metadata": {},
     "output_type": "display_data"
    }
   ],
   "source": [
    "# Lets see the comparision between the two types on a barplot\n",
    "\n",
    "plt.figure(figsize=(8,4))\n",
    "sns.barplot(data=net_type, x=\"type\", y=\"count\", palette=\"viridis\")\n",
    "plt.title(\"Netflix movies and tv-shows\")\n",
    "plt.xlabel(\"Type of product\")\n",
    "plt.ylabel(\"N of products\")\n",
    "\n",
    "for index, value in enumerate(net_type[\"count\"]):\n",
    "    plt.text(index, value, str(round(value,2)), va=\"bottom\", ha=\"center\", fontsize=10)\n",
    "    \n",
    "plt.tight_layout()\n",
    "plt.show()"
   ]
  },
  {
   "cell_type": "markdown",
   "id": "898ac502-1e44-4bdf-8c65-67616843c302",
   "metadata": {},
   "source": [
    "<h3 style=\"color: #60b671;\">Movie lenght distribution</h3>"
   ]
  },
  {
   "cell_type": "code",
   "execution_count": 227,
   "id": "cf378de7-40ed-4c38-9668-654773e7a8f6",
   "metadata": {
    "tags": []
   },
   "outputs": [
    {
     "data": {
      "text/plain": [
       "count    6128.00\n",
       "mean       99.58\n",
       "std        28.29\n",
       "min         3.00\n",
       "25%        87.00\n",
       "50%        98.00\n",
       "75%       114.00\n",
       "max       312.00\n",
       "Name: movie_lenght, dtype: float64"
      ]
     },
     "execution_count": 227,
     "metadata": {},
     "output_type": "execute_result"
    }
   ],
   "source": [
    "# Check a describe on the column to see the general information about it \n",
    "\n",
    "df[\"movie_lenght\"].describe().round(2)"
   ]
  },
  {
   "cell_type": "code",
   "execution_count": null,
   "id": "644ccb9d-03a3-4f85-a898-8476825b473e",
   "metadata": {},
   "outputs": [],
   "source": [
    "# "
   ]
  }
 ],
 "metadata": {
  "kernelspec": {
   "display_name": "Python 3 (ipykernel)",
   "language": "python",
   "name": "python3"
  },
  "language_info": {
   "codemirror_mode": {
    "name": "ipython",
    "version": 3
   },
   "file_extension": ".py",
   "mimetype": "text/x-python",
   "name": "python",
   "nbconvert_exporter": "python",
   "pygments_lexer": "ipython3",
   "version": "3.11.5"
  }
 },
 "nbformat": 4,
 "nbformat_minor": 5
}
