{
 "cells": [
  {
   "cell_type": "markdown",
   "id": "6f2444ab-4d98-48dc-b904-d04ffed18a88",
   "metadata": {},
   "source": [
    "<h1 style=\"color: #492c68;\">01 | BASICS</h1>"
   ]
  },
  {
   "cell_type": "markdown",
   "id": "80300efc-3895-4117-af0b-8289142abf73",
   "metadata": {
    "tags": []
   },
   "source": [
    "<h2 style=\"color: #327a81;\">Libraries</h2>"
   ]
  },
  {
   "cell_type": "code",
   "execution_count": 1,
   "id": "0d349fbc-2e43-4d96-8ac6-2a93e63fd11a",
   "metadata": {
    "tags": []
   },
   "outputs": [],
   "source": [
    "## Basic libraries\n",
    "\n",
    "import pandas as pd\n",
    "import numpy as np\n",
    "import matplotlib.pyplot as plt\n",
    "import matplotlib.dates as mdates\n",
    "import seaborn as sns\n",
    "\n",
    "## Settings\n",
    "\n",
    "pd.set_option('display.max_columns', None) # display all columns\n",
    "import warnings\n",
    "warnings.filterwarnings('ignore') # ignore warnings"
   ]
  },
  {
   "cell_type": "code",
   "execution_count": 2,
   "id": "568e190e-bc95-4430-918f-0a7b7d776d3c",
   "metadata": {
    "tags": []
   },
   "outputs": [],
   "source": [
    "# ML settings\n",
    "\n",
    "from transformers import AutoTokenizer\n",
    "from transformers import AutoModelForSequenceClassification\n",
    "from scipy.special import softmax"
   ]
  },
  {
   "cell_type": "markdown",
   "id": "864f6ed6-aacb-42ec-a85b-97a40a815747",
   "metadata": {},
   "source": [
    "<h2 style=\"color: #327a81;\">Data Read</h2>"
   ]
  },
  {
   "cell_type": "code",
   "execution_count": 3,
   "id": "64cb17fa-b9e6-463c-8746-97b64a9dc19e",
   "metadata": {
    "tags": []
   },
   "outputs": [],
   "source": [
    "data= pd.read_csv(\"Netflx_mood_analysis.csv\")"
   ]
  },
  {
   "cell_type": "code",
   "execution_count": 4,
   "id": "8cee3ae2-6047-4795-aa25-a1b66d4b80da",
   "metadata": {
    "tags": []
   },
   "outputs": [
    {
     "data": {
      "text/html": [
       "<div>\n",
       "<style scoped>\n",
       "    .dataframe tbody tr th:only-of-type {\n",
       "        vertical-align: middle;\n",
       "    }\n",
       "\n",
       "    .dataframe tbody tr th {\n",
       "        vertical-align: top;\n",
       "    }\n",
       "\n",
       "    .dataframe thead th {\n",
       "        text-align: right;\n",
       "    }\n",
       "</style>\n",
       "<table border=\"1\" class=\"dataframe\">\n",
       "  <thead>\n",
       "    <tr style=\"text-align: right;\">\n",
       "      <th></th>\n",
       "      <th>show_id</th>\n",
       "      <th>type</th>\n",
       "      <th>title</th>\n",
       "      <th>director</th>\n",
       "      <th>cast</th>\n",
       "      <th>country</th>\n",
       "      <th>date_added</th>\n",
       "      <th>rating</th>\n",
       "      <th>listed_in</th>\n",
       "      <th>n_seasons</th>\n",
       "      <th>movie_lenght</th>\n",
       "      <th>description</th>\n",
       "    </tr>\n",
       "  </thead>\n",
       "  <tbody>\n",
       "    <tr>\n",
       "      <th>0</th>\n",
       "      <td>s1</td>\n",
       "      <td>Movie</td>\n",
       "      <td>Dick Johnson Is Dead</td>\n",
       "      <td>Kirsten Johnson</td>\n",
       "      <td>Not Provided</td>\n",
       "      <td>United States</td>\n",
       "      <td>2021-09-25</td>\n",
       "      <td>PG-13</td>\n",
       "      <td>Documentaries</td>\n",
       "      <td>NaN</td>\n",
       "      <td>90.0</td>\n",
       "      <td>As her father nears the end of his life, filmm...</td>\n",
       "    </tr>\n",
       "  </tbody>\n",
       "</table>\n",
       "</div>"
      ],
      "text/plain": [
       "  show_id   type                 title         director          cast  \\\n",
       "0      s1  Movie  Dick Johnson Is Dead  Kirsten Johnson  Not Provided   \n",
       "\n",
       "         country  date_added rating      listed_in  n_seasons  movie_lenght  \\\n",
       "0  United States  2021-09-25  PG-13  Documentaries        NaN          90.0   \n",
       "\n",
       "                                         description  \n",
       "0  As her father nears the end of his life, filmm...  "
      ]
     },
     "execution_count": 4,
     "metadata": {},
     "output_type": "execute_result"
    }
   ],
   "source": [
    "data.head(1)"
   ]
  },
  {
   "cell_type": "code",
   "execution_count": 5,
   "id": "1b6b84b2-d186-40cf-94d0-b1d73f446012",
   "metadata": {
    "tags": []
   },
   "outputs": [
    {
     "name": "stdout",
     "output_type": "stream",
     "text": [
      "<class 'pandas.core.frame.DataFrame'>\n",
      "RangeIndex: 8807 entries, 0 to 8806\n",
      "Data columns (total 12 columns):\n",
      " #   Column        Non-Null Count  Dtype  \n",
      "---  ------        --------------  -----  \n",
      " 0   show_id       8807 non-null   object \n",
      " 1   type          8807 non-null   object \n",
      " 2   title         8807 non-null   object \n",
      " 3   director      8807 non-null   object \n",
      " 4   cast          8807 non-null   object \n",
      " 5   country       8807 non-null   object \n",
      " 6   date_added    8709 non-null   object \n",
      " 7   rating        8807 non-null   object \n",
      " 8   listed_in     8807 non-null   object \n",
      " 9   n_seasons     2676 non-null   float64\n",
      " 10  movie_lenght  6128 non-null   float64\n",
      " 11  description   8807 non-null   object \n",
      "dtypes: float64(2), object(10)\n",
      "memory usage: 825.8+ KB\n"
     ]
    }
   ],
   "source": [
    "data.info()"
   ]
  },
  {
   "cell_type": "code",
   "execution_count": 6,
   "id": "1c604b81-e86c-4127-bdb3-919f53d52ced",
   "metadata": {
    "tags": []
   },
   "outputs": [],
   "source": [
    "df = data.copy()"
   ]
  },
  {
   "cell_type": "markdown",
   "id": "ff2ad8e8-2b54-403e-ada4-3296644bdbd6",
   "metadata": {},
   "source": [
    "<h1 style=\"color: #492c68;\">01 | MOOD ANALYSIS</h1>"
   ]
  },
  {
   "cell_type": "markdown",
   "id": "0ecdb90f-8afb-4f8e-93e3-295a6e8882d8",
   "metadata": {},
   "source": [
    "- We will use the pretrained model \"Emotion English DistilRoBERTa-base\" from Hugging Face, a fine-tuned version of RoBERTa (famous NLP model that works searching for relation between language and context) \n",
    "- This pipeline will classify the sipnopsis from catalogue in emotions. "
   ]
  },
  {
   "cell_type": "code",
   "execution_count": 7,
   "id": "abef03e3-71ad-4f18-86a4-1e46afda816e",
   "metadata": {
    "tags": []
   },
   "outputs": [],
   "source": [
    "# Load the sentiment analysis Model\n",
    "\n",
    "MODEL = f\"j-hartmann/emotion-english-distilroberta-base\"\n",
    "tokenizer = AutoTokenizer.from_pretrained(MODEL)\n",
    "model = AutoModelForSequenceClassification.from_pretrained(MODEL)"
   ]
  },
  {
   "cell_type": "code",
   "execution_count": 18,
   "id": "fcdedcd2-c9f7-4f3e-85a8-e71f4e6b8a62",
   "metadata": {
    "tags": []
   },
   "outputs": [],
   "source": [
    "# Define a function that tokenize all sypnosis, apply the pretrained model and finally obtain the sentiment mood label\n",
    "\n",
    "def mooder(text):\n",
    "    encoded_text = tokenizer(text, return_tensors=\"pt\")\n",
    "    output = model(**encoded_text)\n",
    "    scores = output[0][0].detach().numpy()\n",
    "    sc_label = {\n",
    "    \"anger\": scores[0],\n",
    "    \"disgust\" : scores[1],\n",
    "    \"fear\": scores[2],\n",
    "    \"joy\": scores[3],\n",
    "    \"neutral\": scores[4], \n",
    "    \"sadness\": scores[5],\n",
    "    \"surprise\": scores[6]\n",
    "    }\n",
    "    sorted_scores = sorted(sc_label.items(), key= lambda item: item[1], reverse=True)\n",
    "    top_moods = []\n",
    "    for mood, score in sorted_scores:\n",
    "        if mood != \"neutral\":\n",
    "            top_moods.append(mood)\n",
    "        if len(top_moods) == 2:\n",
    "            break\n",
    "    \n",
    "    return top_moods"
   ]
  },
  {
   "cell_type": "code",
   "execution_count": 19,
   "id": "c5a74b1b-df89-4745-9fda-1813099e4fed",
   "metadata": {
    "tags": []
   },
   "outputs": [],
   "source": [
    "# Create a new column that matches emotion with each entry \n",
    "\n",
    "df[\"mood\"] = df[\"description\"].apply(mooder)"
   ]
  },
  {
   "cell_type": "code",
   "execution_count": 20,
   "id": "319e55ad-d784-4b66-abe4-c23ef54024ac",
   "metadata": {
    "tags": []
   },
   "outputs": [
    {
     "data": {
      "text/html": [
       "<div>\n",
       "<style scoped>\n",
       "    .dataframe tbody tr th:only-of-type {\n",
       "        vertical-align: middle;\n",
       "    }\n",
       "\n",
       "    .dataframe tbody tr th {\n",
       "        vertical-align: top;\n",
       "    }\n",
       "\n",
       "    .dataframe thead th {\n",
       "        text-align: right;\n",
       "    }\n",
       "</style>\n",
       "<table border=\"1\" class=\"dataframe\">\n",
       "  <thead>\n",
       "    <tr style=\"text-align: right;\">\n",
       "      <th></th>\n",
       "      <th>show_id</th>\n",
       "      <th>type</th>\n",
       "      <th>title</th>\n",
       "      <th>director</th>\n",
       "      <th>cast</th>\n",
       "      <th>country</th>\n",
       "      <th>date_added</th>\n",
       "      <th>rating</th>\n",
       "      <th>listed_in</th>\n",
       "      <th>n_seasons</th>\n",
       "      <th>movie_lenght</th>\n",
       "      <th>description</th>\n",
       "      <th>mood</th>\n",
       "    </tr>\n",
       "  </thead>\n",
       "  <tbody>\n",
       "    <tr>\n",
       "      <th>381</th>\n",
       "      <td>s382</td>\n",
       "      <td>TV Show</td>\n",
       "      <td>The Snitch Cartel: Origins</td>\n",
       "      <td>Not Provided</td>\n",
       "      <td>Juan Pablo Urrego, Sebastián Osorio, Patricia ...</td>\n",
       "      <td>Not Provided</td>\n",
       "      <td>2021-07-28</td>\n",
       "      <td>TV-MA</td>\n",
       "      <td>Crime TV Shows, International TV Shows, Spanis...</td>\n",
       "      <td>1.0</td>\n",
       "      <td>NaN</td>\n",
       "      <td>Over four decades, two brothers in Cali juggle...</td>\n",
       "      <td>[disgust, anger]</td>\n",
       "    </tr>\n",
       "    <tr>\n",
       "      <th>201</th>\n",
       "      <td>s202</td>\n",
       "      <td>Movie</td>\n",
       "      <td>Kucch To Hai</td>\n",
       "      <td>Anil V. Kumar, Anurag Basu</td>\n",
       "      <td>Tusshar Kapoor, Esha Deol, Natassha, Vrajesh H...</td>\n",
       "      <td>India</td>\n",
       "      <td>2021-08-27</td>\n",
       "      <td>TV-14</td>\n",
       "      <td>Dramas, International Movies, Thrillers</td>\n",
       "      <td>NaN</td>\n",
       "      <td>136.0</td>\n",
       "      <td>A student tries to steal a test from a teacher...</td>\n",
       "      <td>[disgust, anger]</td>\n",
       "    </tr>\n",
       "    <tr>\n",
       "      <th>5642</th>\n",
       "      <td>s5643</td>\n",
       "      <td>Movie</td>\n",
       "      <td>Coin Heist</td>\n",
       "      <td>Emily Hagins</td>\n",
       "      <td>Sasha Pieterse, Alexis G. Zall, Alex Saxon, Ja...</td>\n",
       "      <td>United States</td>\n",
       "      <td>2017-01-06</td>\n",
       "      <td>TV-14</td>\n",
       "      <td>Children &amp; Family Movies, Dramas</td>\n",
       "      <td>NaN</td>\n",
       "      <td>98.0</td>\n",
       "      <td>When a crisis threatens to destroy their high ...</td>\n",
       "      <td>[fear, anger]</td>\n",
       "    </tr>\n",
       "    <tr>\n",
       "      <th>6981</th>\n",
       "      <td>s6982</td>\n",
       "      <td>TV Show</td>\n",
       "      <td>Hogie the Globehopper</td>\n",
       "      <td>Not Provided</td>\n",
       "      <td>Mae Elliessa</td>\n",
       "      <td>United States</td>\n",
       "      <td>2017-08-01</td>\n",
       "      <td>TV-Y</td>\n",
       "      <td>Kids' TV</td>\n",
       "      <td>1.0</td>\n",
       "      <td>NaN</td>\n",
       "      <td>Hogie and his friends travel the world, explor...</td>\n",
       "      <td>[surprise, joy]</td>\n",
       "    </tr>\n",
       "    <tr>\n",
       "      <th>1266</th>\n",
       "      <td>s1267</td>\n",
       "      <td>Movie</td>\n",
       "      <td>Tony Manero</td>\n",
       "      <td>Pablo Larraín</td>\n",
       "      <td>Alfredo Castro, Paola Lattus, Héctor Morales, ...</td>\n",
       "      <td>Chile, Brazil</td>\n",
       "      <td>2021-02-26</td>\n",
       "      <td>TV-MA</td>\n",
       "      <td>Dramas, Independent Movies, International Movies</td>\n",
       "      <td>NaN</td>\n",
       "      <td>97.0</td>\n",
       "      <td>Amid the violence of Pinochet's reign in 1978 ...</td>\n",
       "      <td>[sadness, disgust]</td>\n",
       "    </tr>\n",
       "  </tbody>\n",
       "</table>\n",
       "</div>"
      ],
      "text/plain": [
       "     show_id     type                       title                    director  \\\n",
       "381     s382  TV Show  The Snitch Cartel: Origins                Not Provided   \n",
       "201     s202    Movie                Kucch To Hai  Anil V. Kumar, Anurag Basu   \n",
       "5642   s5643    Movie                  Coin Heist                Emily Hagins   \n",
       "6981   s6982  TV Show       Hogie the Globehopper                Not Provided   \n",
       "1266   s1267    Movie                 Tony Manero               Pablo Larraín   \n",
       "\n",
       "                                                   cast        country  \\\n",
       "381   Juan Pablo Urrego, Sebastián Osorio, Patricia ...   Not Provided   \n",
       "201   Tusshar Kapoor, Esha Deol, Natassha, Vrajesh H...          India   \n",
       "5642  Sasha Pieterse, Alexis G. Zall, Alex Saxon, Ja...  United States   \n",
       "6981                                       Mae Elliessa  United States   \n",
       "1266  Alfredo Castro, Paola Lattus, Héctor Morales, ...  Chile, Brazil   \n",
       "\n",
       "      date_added rating                                          listed_in  \\\n",
       "381   2021-07-28  TV-MA  Crime TV Shows, International TV Shows, Spanis...   \n",
       "201   2021-08-27  TV-14            Dramas, International Movies, Thrillers   \n",
       "5642  2017-01-06  TV-14                   Children & Family Movies, Dramas   \n",
       "6981  2017-08-01   TV-Y                                           Kids' TV   \n",
       "1266  2021-02-26  TV-MA   Dramas, Independent Movies, International Movies   \n",
       "\n",
       "      n_seasons  movie_lenght  \\\n",
       "381         1.0           NaN   \n",
       "201         NaN         136.0   \n",
       "5642        NaN          98.0   \n",
       "6981        1.0           NaN   \n",
       "1266        NaN          97.0   \n",
       "\n",
       "                                            description                mood  \n",
       "381   Over four decades, two brothers in Cali juggle...    [disgust, anger]  \n",
       "201   A student tries to steal a test from a teacher...    [disgust, anger]  \n",
       "5642  When a crisis threatens to destroy their high ...       [fear, anger]  \n",
       "6981  Hogie and his friends travel the world, explor...     [surprise, joy]  \n",
       "1266  Amid the violence of Pinochet's reign in 1978 ...  [sadness, disgust]  "
      ]
     },
     "execution_count": 20,
     "metadata": {},
     "output_type": "execute_result"
    }
   ],
   "source": [
    "# Check the df updated with moods\n",
    "\n",
    "df.sample(5)"
   ]
  },
  {
   "cell_type": "code",
   "execution_count": null,
   "id": "568d0c4c-42ef-46c1-84f0-78ae86416ec0",
   "metadata": {},
   "outputs": [],
   "source": []
  },
  {
   "cell_type": "code",
   "execution_count": null,
   "id": "ac47197b-03a1-4a07-ae71-23c038c147bc",
   "metadata": {},
   "outputs": [],
   "source": []
  }
 ],
 "metadata": {
  "kernelspec": {
   "display_name": "Python 3 (ipykernel)",
   "language": "python",
   "name": "python3"
  },
  "language_info": {
   "codemirror_mode": {
    "name": "ipython",
    "version": 3
   },
   "file_extension": ".py",
   "mimetype": "text/x-python",
   "name": "python",
   "nbconvert_exporter": "python",
   "pygments_lexer": "ipython3",
   "version": "3.11.5"
  }
 },
 "nbformat": 4,
 "nbformat_minor": 5
}
