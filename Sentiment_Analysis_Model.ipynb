{
 "cells": [
  {
   "cell_type": "markdown",
   "id": "6f2444ab-4d98-48dc-b904-d04ffed18a88",
   "metadata": {},
   "source": [
    "<h1 style=\"color: #492c68;\">01 | BASICS</h1>"
   ]
  },
  {
   "cell_type": "markdown",
   "id": "80300efc-3895-4117-af0b-8289142abf73",
   "metadata": {
    "tags": []
   },
   "source": [
    "<h2 style=\"color: #327a81;\">Libraries</h2>"
   ]
  },
  {
   "cell_type": "code",
   "execution_count": 1,
   "id": "0d349fbc-2e43-4d96-8ac6-2a93e63fd11a",
   "metadata": {
    "tags": []
   },
   "outputs": [],
   "source": [
    "## Basic libraries\n",
    "\n",
    "import pandas as pd\n",
    "import ast #\n",
    "import numpy as np\n",
    "import matplotlib.pyplot as plt\n",
    "import matplotlib.dates as mdates\n",
    "import seaborn as sns\n",
    "\n",
    "## Settings\n",
    "\n",
    "pd.set_option('display.max_columns', None) # display all columns\n",
    "import warnings\n",
    "warnings.filterwarnings('ignore') # ignore warnings"
   ]
  },
  {
   "cell_type": "code",
   "execution_count": 2,
   "id": "568e190e-bc95-4430-918f-0a7b7d776d3c",
   "metadata": {
    "tags": []
   },
   "outputs": [],
   "source": [
    "# ML settings\n",
    "\n",
    "from transformers import AutoTokenizer\n",
    "from transformers import AutoModelForSequenceClassification\n",
    "from scipy.special import softmax"
   ]
  },
  {
   "cell_type": "markdown",
   "id": "864f6ed6-aacb-42ec-a85b-97a40a815747",
   "metadata": {},
   "source": [
    "<h2 style=\"color: #327a81;\">Data Read</h2>"
   ]
  },
  {
   "cell_type": "code",
   "execution_count": 3,
   "id": "64cb17fa-b9e6-463c-8746-97b64a9dc19e",
   "metadata": {
    "tags": []
   },
   "outputs": [],
   "source": [
    "data= pd.read_csv(\"Netflx_mood_analysis.csv\")"
   ]
  },
  {
   "cell_type": "code",
   "execution_count": 4,
   "id": "8cee3ae2-6047-4795-aa25-a1b66d4b80da",
   "metadata": {
    "tags": []
   },
   "outputs": [
    {
     "data": {
      "text/html": [
       "<div>\n",
       "<style scoped>\n",
       "    .dataframe tbody tr th:only-of-type {\n",
       "        vertical-align: middle;\n",
       "    }\n",
       "\n",
       "    .dataframe tbody tr th {\n",
       "        vertical-align: top;\n",
       "    }\n",
       "\n",
       "    .dataframe thead th {\n",
       "        text-align: right;\n",
       "    }\n",
       "</style>\n",
       "<table border=\"1\" class=\"dataframe\">\n",
       "  <thead>\n",
       "    <tr style=\"text-align: right;\">\n",
       "      <th></th>\n",
       "      <th>show_id</th>\n",
       "      <th>type</th>\n",
       "      <th>title</th>\n",
       "      <th>director</th>\n",
       "      <th>cast</th>\n",
       "      <th>country</th>\n",
       "      <th>date_added</th>\n",
       "      <th>rating</th>\n",
       "      <th>listed_in</th>\n",
       "      <th>n_seasons</th>\n",
       "      <th>movie_lenght</th>\n",
       "      <th>description</th>\n",
       "    </tr>\n",
       "  </thead>\n",
       "  <tbody>\n",
       "    <tr>\n",
       "      <th>0</th>\n",
       "      <td>s1</td>\n",
       "      <td>Movie</td>\n",
       "      <td>Dick Johnson Is Dead</td>\n",
       "      <td>Kirsten Johnson</td>\n",
       "      <td>Not Provided</td>\n",
       "      <td>United States</td>\n",
       "      <td>2021-09-25</td>\n",
       "      <td>PG-13</td>\n",
       "      <td>Documentaries</td>\n",
       "      <td>NaN</td>\n",
       "      <td>90.0</td>\n",
       "      <td>As her father nears the end of his life, filmm...</td>\n",
       "    </tr>\n",
       "  </tbody>\n",
       "</table>\n",
       "</div>"
      ],
      "text/plain": [
       "  show_id   type                 title         director          cast  \\\n",
       "0      s1  Movie  Dick Johnson Is Dead  Kirsten Johnson  Not Provided   \n",
       "\n",
       "         country  date_added rating      listed_in  n_seasons  movie_lenght  \\\n",
       "0  United States  2021-09-25  PG-13  Documentaries        NaN          90.0   \n",
       "\n",
       "                                         description  \n",
       "0  As her father nears the end of his life, filmm...  "
      ]
     },
     "execution_count": 4,
     "metadata": {},
     "output_type": "execute_result"
    }
   ],
   "source": [
    "data.head(1)"
   ]
  },
  {
   "cell_type": "code",
   "execution_count": 5,
   "id": "1b6b84b2-d186-40cf-94d0-b1d73f446012",
   "metadata": {
    "tags": []
   },
   "outputs": [
    {
     "name": "stdout",
     "output_type": "stream",
     "text": [
      "<class 'pandas.core.frame.DataFrame'>\n",
      "RangeIndex: 8807 entries, 0 to 8806\n",
      "Data columns (total 12 columns):\n",
      " #   Column        Non-Null Count  Dtype  \n",
      "---  ------        --------------  -----  \n",
      " 0   show_id       8807 non-null   object \n",
      " 1   type          8807 non-null   object \n",
      " 2   title         8807 non-null   object \n",
      " 3   director      8807 non-null   object \n",
      " 4   cast          8807 non-null   object \n",
      " 5   country       8807 non-null   object \n",
      " 6   date_added    8709 non-null   object \n",
      " 7   rating        8807 non-null   object \n",
      " 8   listed_in     8807 non-null   object \n",
      " 9   n_seasons     2676 non-null   float64\n",
      " 10  movie_lenght  6128 non-null   float64\n",
      " 11  description   8807 non-null   object \n",
      "dtypes: float64(2), object(10)\n",
      "memory usage: 825.8+ KB\n"
     ]
    }
   ],
   "source": [
    "data.info()"
   ]
  },
  {
   "cell_type": "code",
   "execution_count": 6,
   "id": "1c604b81-e86c-4127-bdb3-919f53d52ced",
   "metadata": {
    "tags": []
   },
   "outputs": [],
   "source": [
    "df = data.copy()"
   ]
  },
  {
   "cell_type": "markdown",
   "id": "ff2ad8e8-2b54-403e-ada4-3296644bdbd6",
   "metadata": {},
   "source": [
    "<h1 style=\"color: #492c68;\">02 | SENTIMENT ANALYSIS ML</h1>"
   ]
  },
  {
   "cell_type": "markdown",
   "id": "0ecdb90f-8afb-4f8e-93e3-295a6e8882d8",
   "metadata": {},
   "source": [
    "- We will use the pretrained model \"Emotion English DistilRoBERTa-base\" from Hugging Face, a fine-tuned version of RoBERTa (famous NLP model that works searching for relation between language and context) \n",
    "- This pipeline will classify the sipnopsis from catalogue in emotions. "
   ]
  },
  {
   "cell_type": "code",
   "execution_count": 7,
   "id": "abef03e3-71ad-4f18-86a4-1e46afda816e",
   "metadata": {
    "tags": []
   },
   "outputs": [],
   "source": [
    "# Load the sentiment analysis Model\n",
    "\n",
    "MODEL = f\"j-hartmann/emotion-english-distilroberta-base\"\n",
    "tokenizer = AutoTokenizer.from_pretrained(MODEL)\n",
    "model = AutoModelForSequenceClassification.from_pretrained(MODEL)"
   ]
  },
  {
   "cell_type": "code",
   "execution_count": 37,
   "id": "fcdedcd2-c9f7-4f3e-85a8-e71f4e6b8a62",
   "metadata": {
    "tags": []
   },
   "outputs": [],
   "source": [
    "# Define a function that tokenize all sypnosis, apply the pretrained model and finally obtain the sentiment mood label\n",
    "# We will save two sentiments per title. Neutral sentiment will be omitted.\n",
    "\n",
    "def mooder(text):\n",
    "    encoded_text = tokenizer(text, return_tensors=\"pt\")\n",
    "    output = model(**encoded_text)\n",
    "    scores = output[0][0].detach().numpy()\n",
    "    sc_label = {\n",
    "    \"anger\": scores[0],\n",
    "    \"disgust\" : scores[1],\n",
    "    \"fear\": scores[2],\n",
    "    \"joy\": scores[3],\n",
    "    \"neutral\": scores[4], \n",
    "    \"sadness\": scores[5],\n",
    "    \"surprise\": scores[6]\n",
    "    }\n",
    "    sorted_scores = sorted(sc_label.items(), key= lambda item: item[1], reverse=True)\n",
    "    top_moods = []\n",
    "    for mood, score in sorted_scores:\n",
    "        if mood != \"neutral\":\n",
    "            top_moods.append(mood)\n",
    "        if len(top_moods) == 2:\n",
    "            break\n",
    "    \n",
    "    return top_moods"
   ]
  },
  {
   "cell_type": "code",
   "execution_count": 38,
   "id": "c5a74b1b-df89-4745-9fda-1813099e4fed",
   "metadata": {
    "tags": []
   },
   "outputs": [],
   "source": [
    "# Create a new column that matches emotion with each entry \n",
    "\n",
    "df[\"mood\"] = df[\"description\"].apply(mooder)"
   ]
  },
  {
   "cell_type": "code",
   "execution_count": 39,
   "id": "3043a2f2-9b56-4420-8290-2fdf1a2a50b4",
   "metadata": {
    "tags": []
   },
   "outputs": [],
   "source": [
    "# This new column contains a list of labels for each entry, let's transform them into a string of words for better processing\n",
    "\n",
    "df[\"mood\"] = df[\"mood\"].apply(lambda x: \", \".join(x))"
   ]
  },
  {
   "cell_type": "code",
   "execution_count": 40,
   "id": "319e55ad-d784-4b66-abe4-c23ef54024ac",
   "metadata": {
    "tags": []
   },
   "outputs": [
    {
     "data": {
      "text/html": [
       "<div>\n",
       "<style scoped>\n",
       "    .dataframe tbody tr th:only-of-type {\n",
       "        vertical-align: middle;\n",
       "    }\n",
       "\n",
       "    .dataframe tbody tr th {\n",
       "        vertical-align: top;\n",
       "    }\n",
       "\n",
       "    .dataframe thead th {\n",
       "        text-align: right;\n",
       "    }\n",
       "</style>\n",
       "<table border=\"1\" class=\"dataframe\">\n",
       "  <thead>\n",
       "    <tr style=\"text-align: right;\">\n",
       "      <th></th>\n",
       "      <th>title</th>\n",
       "      <th>description</th>\n",
       "      <th>mood</th>\n",
       "    </tr>\n",
       "  </thead>\n",
       "  <tbody>\n",
       "    <tr>\n",
       "      <th>4451</th>\n",
       "      <td>Mumbai Meri Jaan</td>\n",
       "      <td>A moving portrayal of the 2006 train bombings ...</td>\n",
       "      <td>fear, disgust</td>\n",
       "    </tr>\n",
       "    <tr>\n",
       "      <th>6149</th>\n",
       "      <td>Amy</td>\n",
       "      <td>Rare home videos and interviews with Amy Wineh...</td>\n",
       "      <td>sadness, fear</td>\n",
       "    </tr>\n",
       "    <tr>\n",
       "      <th>5778</th>\n",
       "      <td>Umrika</td>\n",
       "      <td>An ambitious man leaves his small Indian villa...</td>\n",
       "      <td>anger, sadness</td>\n",
       "    </tr>\n",
       "    <tr>\n",
       "      <th>8044</th>\n",
       "      <td>Smash: Motorized Mayhem</td>\n",
       "      <td>Buckle up for a look inside a biannual school ...</td>\n",
       "      <td>fear, sadness</td>\n",
       "    </tr>\n",
       "    <tr>\n",
       "      <th>739</th>\n",
       "      <td>Wish Dragon</td>\n",
       "      <td>Determined teen Din is longing to reconnect wi...</td>\n",
       "      <td>sadness, surprise</td>\n",
       "    </tr>\n",
       "  </tbody>\n",
       "</table>\n",
       "</div>"
      ],
      "text/plain": [
       "                        title  \\\n",
       "4451         Mumbai Meri Jaan   \n",
       "6149                      Amy   \n",
       "5778                   Umrika   \n",
       "8044  Smash: Motorized Mayhem   \n",
       "739               Wish Dragon   \n",
       "\n",
       "                                            description               mood  \n",
       "4451  A moving portrayal of the 2006 train bombings ...      fear, disgust  \n",
       "6149  Rare home videos and interviews with Amy Wineh...      sadness, fear  \n",
       "5778  An ambitious man leaves his small Indian villa...     anger, sadness  \n",
       "8044  Buckle up for a look inside a biannual school ...      fear, sadness  \n",
       "739   Determined teen Din is longing to reconnect wi...  sadness, surprise  "
      ]
     },
     "execution_count": 40,
     "metadata": {},
     "output_type": "execute_result"
    }
   ],
   "source": [
    "# Check the df updated with moods\n",
    "\n",
    "df[[\"title\",\"description\",\"mood\"]].sample(5)"
   ]
  },
  {
   "cell_type": "markdown",
   "id": "a4705651-d3c2-48fc-987a-b58a66275040",
   "metadata": {},
   "source": [
    "<h1 style=\"color: #492c68;\">03 | EXPORT DATASET FOR MOOD RECOMMENDER</h1>"
   ]
  },
  {
   "cell_type": "code",
   "execution_count": 41,
   "id": "e86ad5c3-91e3-4fd5-95c8-b994af9a0bd7",
   "metadata": {
    "tags": []
   },
   "outputs": [],
   "source": [
    "# Create a new dataset to build the Netflix Mood Recommender\n",
    "\n",
    "df.to_csv(\"netflix_mood_recommender.csv\", index=False)"
   ]
  }
 ],
 "metadata": {
  "kernelspec": {
   "display_name": "Python 3 (ipykernel)",
   "language": "python",
   "name": "python3"
  },
  "language_info": {
   "codemirror_mode": {
    "name": "ipython",
    "version": 3
   },
   "file_extension": ".py",
   "mimetype": "text/x-python",
   "name": "python",
   "nbconvert_exporter": "python",
   "pygments_lexer": "ipython3",
   "version": "3.11.5"
  }
 },
 "nbformat": 4,
 "nbformat_minor": 5
}
